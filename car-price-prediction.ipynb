{
 "cells": [
  {
   "cell_type": "code",
   "execution_count": 1,
   "id": "cf9bbdfe",
   "metadata": {
    "_cell_guid": "b1076dfc-b9ad-4769-8c92-a6c4dae69d19",
    "_uuid": "8f2839f25d086af736a60e9eeb907d3b93b6e0e5",
    "execution": {
     "iopub.execute_input": "2024-07-06T10:06:38.412835Z",
     "iopub.status.busy": "2024-07-06T10:06:38.412408Z",
     "iopub.status.idle": "2024-07-06T10:06:39.438446Z",
     "shell.execute_reply": "2024-07-06T10:06:39.436965Z"
    },
    "papermill": {
     "duration": 1.043593,
     "end_time": "2024-07-06T10:06:39.441340",
     "exception": false,
     "start_time": "2024-07-06T10:06:38.397747",
     "status": "completed"
    },
    "tags": []
   },
   "outputs": [
    {
     "name": "stdout",
     "output_type": "stream",
     "text": [
      "/kaggle/input/car-price-predictionused-cars/car data.csv\n"
     ]
    }
   ],
   "source": [
    "import numpy as np \n",
    "import pandas as pd \n",
    "import os\n",
    "for dirname, _, filenames in os.walk('/kaggle/input'):\n",
    "    for filename in filenames:\n",
    "        print(os.path.join(dirname, filename))"
   ]
  },
  {
   "cell_type": "code",
   "execution_count": 2,
   "id": "add8d22f",
   "metadata": {
    "execution": {
     "iopub.execute_input": "2024-07-06T10:06:39.469150Z",
     "iopub.status.busy": "2024-07-06T10:06:39.468557Z",
     "iopub.status.idle": "2024-07-06T10:06:39.492648Z",
     "shell.execute_reply": "2024-07-06T10:06:39.491397Z"
    },
    "papermill": {
     "duration": 0.041799,
     "end_time": "2024-07-06T10:06:39.495629",
     "exception": false,
     "start_time": "2024-07-06T10:06:39.453830",
     "status": "completed"
    },
    "tags": []
   },
   "outputs": [],
   "source": [
    "car_data = pd.read_csv('/kaggle/input/car-price-predictionused-cars/car data.csv')"
   ]
  },
  {
   "cell_type": "code",
   "execution_count": 3,
   "id": "1d8d28be",
   "metadata": {
    "execution": {
     "iopub.execute_input": "2024-07-06T10:06:39.523475Z",
     "iopub.status.busy": "2024-07-06T10:06:39.522227Z",
     "iopub.status.idle": "2024-07-06T10:06:39.555666Z",
     "shell.execute_reply": "2024-07-06T10:06:39.554507Z"
    },
    "papermill": {
     "duration": 0.04975,
     "end_time": "2024-07-06T10:06:39.558279",
     "exception": false,
     "start_time": "2024-07-06T10:06:39.508529",
     "status": "completed"
    },
    "tags": []
   },
   "outputs": [
    {
     "data": {
      "text/html": [
       "<div>\n",
       "<style scoped>\n",
       "    .dataframe tbody tr th:only-of-type {\n",
       "        vertical-align: middle;\n",
       "    }\n",
       "\n",
       "    .dataframe tbody tr th {\n",
       "        vertical-align: top;\n",
       "    }\n",
       "\n",
       "    .dataframe thead th {\n",
       "        text-align: right;\n",
       "    }\n",
       "</style>\n",
       "<table border=\"1\" class=\"dataframe\">\n",
       "  <thead>\n",
       "    <tr style=\"text-align: right;\">\n",
       "      <th></th>\n",
       "      <th>Car_Name</th>\n",
       "      <th>Year</th>\n",
       "      <th>Selling_Price</th>\n",
       "      <th>Present_Price</th>\n",
       "      <th>Driven_kms</th>\n",
       "      <th>Fuel_Type</th>\n",
       "      <th>Selling_type</th>\n",
       "      <th>Transmission</th>\n",
       "      <th>Owner</th>\n",
       "    </tr>\n",
       "  </thead>\n",
       "  <tbody>\n",
       "    <tr>\n",
       "      <th>0</th>\n",
       "      <td>ritz</td>\n",
       "      <td>2014</td>\n",
       "      <td>3.35</td>\n",
       "      <td>5.59</td>\n",
       "      <td>27000</td>\n",
       "      <td>Petrol</td>\n",
       "      <td>Dealer</td>\n",
       "      <td>Manual</td>\n",
       "      <td>0</td>\n",
       "    </tr>\n",
       "    <tr>\n",
       "      <th>1</th>\n",
       "      <td>sx4</td>\n",
       "      <td>2013</td>\n",
       "      <td>4.75</td>\n",
       "      <td>9.54</td>\n",
       "      <td>43000</td>\n",
       "      <td>Diesel</td>\n",
       "      <td>Dealer</td>\n",
       "      <td>Manual</td>\n",
       "      <td>0</td>\n",
       "    </tr>\n",
       "    <tr>\n",
       "      <th>2</th>\n",
       "      <td>ciaz</td>\n",
       "      <td>2017</td>\n",
       "      <td>7.25</td>\n",
       "      <td>9.85</td>\n",
       "      <td>6900</td>\n",
       "      <td>Petrol</td>\n",
       "      <td>Dealer</td>\n",
       "      <td>Manual</td>\n",
       "      <td>0</td>\n",
       "    </tr>\n",
       "    <tr>\n",
       "      <th>3</th>\n",
       "      <td>wagon r</td>\n",
       "      <td>2011</td>\n",
       "      <td>2.85</td>\n",
       "      <td>4.15</td>\n",
       "      <td>5200</td>\n",
       "      <td>Petrol</td>\n",
       "      <td>Dealer</td>\n",
       "      <td>Manual</td>\n",
       "      <td>0</td>\n",
       "    </tr>\n",
       "    <tr>\n",
       "      <th>4</th>\n",
       "      <td>swift</td>\n",
       "      <td>2014</td>\n",
       "      <td>4.60</td>\n",
       "      <td>6.87</td>\n",
       "      <td>42450</td>\n",
       "      <td>Diesel</td>\n",
       "      <td>Dealer</td>\n",
       "      <td>Manual</td>\n",
       "      <td>0</td>\n",
       "    </tr>\n",
       "  </tbody>\n",
       "</table>\n",
       "</div>"
      ],
      "text/plain": [
       "  Car_Name  Year  Selling_Price  Present_Price  Driven_kms Fuel_Type  \\\n",
       "0     ritz  2014           3.35           5.59       27000    Petrol   \n",
       "1      sx4  2013           4.75           9.54       43000    Diesel   \n",
       "2     ciaz  2017           7.25           9.85        6900    Petrol   \n",
       "3  wagon r  2011           2.85           4.15        5200    Petrol   \n",
       "4    swift  2014           4.60           6.87       42450    Diesel   \n",
       "\n",
       "  Selling_type Transmission  Owner  \n",
       "0       Dealer       Manual      0  \n",
       "1       Dealer       Manual      0  \n",
       "2       Dealer       Manual      0  \n",
       "3       Dealer       Manual      0  \n",
       "4       Dealer       Manual      0  "
      ]
     },
     "execution_count": 3,
     "metadata": {},
     "output_type": "execute_result"
    }
   ],
   "source": [
    "car_data.head()"
   ]
  },
  {
   "cell_type": "code",
   "execution_count": 4,
   "id": "b4269a7b",
   "metadata": {
    "execution": {
     "iopub.execute_input": "2024-07-06T10:06:39.588008Z",
     "iopub.status.busy": "2024-07-06T10:06:39.586934Z",
     "iopub.status.idle": "2024-07-06T10:06:39.595137Z",
     "shell.execute_reply": "2024-07-06T10:06:39.593661Z"
    },
    "papermill": {
     "duration": 0.026015,
     "end_time": "2024-07-06T10:06:39.597877",
     "exception": false,
     "start_time": "2024-07-06T10:06:39.571862",
     "status": "completed"
    },
    "tags": []
   },
   "outputs": [
    {
     "data": {
      "text/plain": [
       "(301, 9)"
      ]
     },
     "execution_count": 4,
     "metadata": {},
     "output_type": "execute_result"
    }
   ],
   "source": [
    "car_data.shape"
   ]
  },
  {
   "cell_type": "code",
   "execution_count": 5,
   "id": "4c3e9ab1",
   "metadata": {
    "execution": {
     "iopub.execute_input": "2024-07-06T10:06:39.625220Z",
     "iopub.status.busy": "2024-07-06T10:06:39.624832Z",
     "iopub.status.idle": "2024-07-06T10:06:39.653941Z",
     "shell.execute_reply": "2024-07-06T10:06:39.652379Z"
    },
    "papermill": {
     "duration": 0.046003,
     "end_time": "2024-07-06T10:06:39.656722",
     "exception": false,
     "start_time": "2024-07-06T10:06:39.610719",
     "status": "completed"
    },
    "tags": []
   },
   "outputs": [
    {
     "name": "stdout",
     "output_type": "stream",
     "text": [
      "<class 'pandas.core.frame.DataFrame'>\n",
      "RangeIndex: 301 entries, 0 to 300\n",
      "Data columns (total 9 columns):\n",
      " #   Column         Non-Null Count  Dtype  \n",
      "---  ------         --------------  -----  \n",
      " 0   Car_Name       301 non-null    object \n",
      " 1   Year           301 non-null    int64  \n",
      " 2   Selling_Price  301 non-null    float64\n",
      " 3   Present_Price  301 non-null    float64\n",
      " 4   Driven_kms     301 non-null    int64  \n",
      " 5   Fuel_Type      301 non-null    object \n",
      " 6   Selling_type   301 non-null    object \n",
      " 7   Transmission   301 non-null    object \n",
      " 8   Owner          301 non-null    int64  \n",
      "dtypes: float64(2), int64(3), object(4)\n",
      "memory usage: 21.3+ KB\n"
     ]
    }
   ],
   "source": [
    "car_data.info()"
   ]
  },
  {
   "cell_type": "code",
   "execution_count": 6,
   "id": "a6def8d1",
   "metadata": {
    "execution": {
     "iopub.execute_input": "2024-07-06T10:06:39.685716Z",
     "iopub.status.busy": "2024-07-06T10:06:39.685299Z",
     "iopub.status.idle": "2024-07-06T10:06:39.698447Z",
     "shell.execute_reply": "2024-07-06T10:06:39.696717Z"
    },
    "papermill": {
     "duration": 0.031253,
     "end_time": "2024-07-06T10:06:39.701233",
     "exception": false,
     "start_time": "2024-07-06T10:06:39.669980",
     "status": "completed"
    },
    "tags": []
   },
   "outputs": [
    {
     "data": {
      "text/plain": [
       "Owner\n",
       "0    290\n",
       "1     10\n",
       "3      1\n",
       "Name: count, dtype: int64"
      ]
     },
     "execution_count": 6,
     "metadata": {},
     "output_type": "execute_result"
    }
   ],
   "source": [
    "car_data['Owner'].value_counts()"
   ]
  },
  {
   "cell_type": "code",
   "execution_count": 7,
   "id": "8b2f3460",
   "metadata": {
    "execution": {
     "iopub.execute_input": "2024-07-06T10:06:39.730159Z",
     "iopub.status.busy": "2024-07-06T10:06:39.729182Z",
     "iopub.status.idle": "2024-07-06T10:06:39.740354Z",
     "shell.execute_reply": "2024-07-06T10:06:39.738402Z"
    },
    "papermill": {
     "duration": 0.029129,
     "end_time": "2024-07-06T10:06:39.743533",
     "exception": false,
     "start_time": "2024-07-06T10:06:39.714404",
     "status": "completed"
    },
    "tags": []
   },
   "outputs": [],
   "source": [
    "car_data = car_data.drop(columns = ['Owner'])"
   ]
  },
  {
   "cell_type": "code",
   "execution_count": 8,
   "id": "493da7b5",
   "metadata": {
    "execution": {
     "iopub.execute_input": "2024-07-06T10:06:39.772014Z",
     "iopub.status.busy": "2024-07-06T10:06:39.771534Z",
     "iopub.status.idle": "2024-07-06T10:06:39.779935Z",
     "shell.execute_reply": "2024-07-06T10:06:39.778636Z"
    },
    "papermill": {
     "duration": 0.026074,
     "end_time": "2024-07-06T10:06:39.782658",
     "exception": false,
     "start_time": "2024-07-06T10:06:39.756584",
     "status": "completed"
    },
    "tags": []
   },
   "outputs": [
    {
     "data": {
      "text/plain": [
       "Index(['Car_Name', 'Year', 'Selling_Price', 'Present_Price', 'Driven_kms',\n",
       "       'Fuel_Type', 'Selling_type', 'Transmission'],\n",
       "      dtype='object')"
      ]
     },
     "execution_count": 8,
     "metadata": {},
     "output_type": "execute_result"
    }
   ],
   "source": [
    "car_data.columns"
   ]
  },
  {
   "cell_type": "code",
   "execution_count": 9,
   "id": "f3e5afb5",
   "metadata": {
    "execution": {
     "iopub.execute_input": "2024-07-06T10:06:39.810789Z",
     "iopub.status.busy": "2024-07-06T10:06:39.810343Z",
     "iopub.status.idle": "2024-07-06T10:06:39.821970Z",
     "shell.execute_reply": "2024-07-06T10:06:39.820832Z"
    },
    "papermill": {
     "duration": 0.02873,
     "end_time": "2024-07-06T10:06:39.824740",
     "exception": false,
     "start_time": "2024-07-06T10:06:39.796010",
     "status": "completed"
    },
    "tags": []
   },
   "outputs": [
    {
     "data": {
      "text/plain": [
       "Car_Name         0\n",
       "Year             0\n",
       "Selling_Price    0\n",
       "Present_Price    0\n",
       "Driven_kms       0\n",
       "Fuel_Type        0\n",
       "Selling_type     0\n",
       "Transmission     0\n",
       "dtype: int64"
      ]
     },
     "execution_count": 9,
     "metadata": {},
     "output_type": "execute_result"
    }
   ],
   "source": [
    "car_data.isnull().sum()"
   ]
  },
  {
   "cell_type": "code",
   "execution_count": 10,
   "id": "c45a5cf0",
   "metadata": {
    "execution": {
     "iopub.execute_input": "2024-07-06T10:06:39.854363Z",
     "iopub.status.busy": "2024-07-06T10:06:39.853952Z",
     "iopub.status.idle": "2024-07-06T10:06:39.885017Z",
     "shell.execute_reply": "2024-07-06T10:06:39.883924Z"
    },
    "papermill": {
     "duration": 0.048756,
     "end_time": "2024-07-06T10:06:39.887629",
     "exception": false,
     "start_time": "2024-07-06T10:06:39.838873",
     "status": "completed"
    },
    "tags": []
   },
   "outputs": [
    {
     "data": {
      "text/html": [
       "<div>\n",
       "<style scoped>\n",
       "    .dataframe tbody tr th:only-of-type {\n",
       "        vertical-align: middle;\n",
       "    }\n",
       "\n",
       "    .dataframe tbody tr th {\n",
       "        vertical-align: top;\n",
       "    }\n",
       "\n",
       "    .dataframe thead th {\n",
       "        text-align: right;\n",
       "    }\n",
       "</style>\n",
       "<table border=\"1\" class=\"dataframe\">\n",
       "  <thead>\n",
       "    <tr style=\"text-align: right;\">\n",
       "      <th></th>\n",
       "      <th>Year</th>\n",
       "      <th>Selling_Price</th>\n",
       "      <th>Present_Price</th>\n",
       "      <th>Driven_kms</th>\n",
       "    </tr>\n",
       "  </thead>\n",
       "  <tbody>\n",
       "    <tr>\n",
       "      <th>count</th>\n",
       "      <td>301.000000</td>\n",
       "      <td>301.000000</td>\n",
       "      <td>301.000000</td>\n",
       "      <td>301.000000</td>\n",
       "    </tr>\n",
       "    <tr>\n",
       "      <th>mean</th>\n",
       "      <td>2013.627907</td>\n",
       "      <td>4.661296</td>\n",
       "      <td>7.628472</td>\n",
       "      <td>36947.205980</td>\n",
       "    </tr>\n",
       "    <tr>\n",
       "      <th>std</th>\n",
       "      <td>2.891554</td>\n",
       "      <td>5.082812</td>\n",
       "      <td>8.642584</td>\n",
       "      <td>38886.883882</td>\n",
       "    </tr>\n",
       "    <tr>\n",
       "      <th>min</th>\n",
       "      <td>2003.000000</td>\n",
       "      <td>0.100000</td>\n",
       "      <td>0.320000</td>\n",
       "      <td>500.000000</td>\n",
       "    </tr>\n",
       "    <tr>\n",
       "      <th>25%</th>\n",
       "      <td>2012.000000</td>\n",
       "      <td>0.900000</td>\n",
       "      <td>1.200000</td>\n",
       "      <td>15000.000000</td>\n",
       "    </tr>\n",
       "    <tr>\n",
       "      <th>50%</th>\n",
       "      <td>2014.000000</td>\n",
       "      <td>3.600000</td>\n",
       "      <td>6.400000</td>\n",
       "      <td>32000.000000</td>\n",
       "    </tr>\n",
       "    <tr>\n",
       "      <th>75%</th>\n",
       "      <td>2016.000000</td>\n",
       "      <td>6.000000</td>\n",
       "      <td>9.900000</td>\n",
       "      <td>48767.000000</td>\n",
       "    </tr>\n",
       "    <tr>\n",
       "      <th>max</th>\n",
       "      <td>2018.000000</td>\n",
       "      <td>35.000000</td>\n",
       "      <td>92.600000</td>\n",
       "      <td>500000.000000</td>\n",
       "    </tr>\n",
       "  </tbody>\n",
       "</table>\n",
       "</div>"
      ],
      "text/plain": [
       "              Year  Selling_Price  Present_Price     Driven_kms\n",
       "count   301.000000     301.000000     301.000000     301.000000\n",
       "mean   2013.627907       4.661296       7.628472   36947.205980\n",
       "std       2.891554       5.082812       8.642584   38886.883882\n",
       "min    2003.000000       0.100000       0.320000     500.000000\n",
       "25%    2012.000000       0.900000       1.200000   15000.000000\n",
       "50%    2014.000000       3.600000       6.400000   32000.000000\n",
       "75%    2016.000000       6.000000       9.900000   48767.000000\n",
       "max    2018.000000      35.000000      92.600000  500000.000000"
      ]
     },
     "execution_count": 10,
     "metadata": {},
     "output_type": "execute_result"
    }
   ],
   "source": [
    "car_data.describe()"
   ]
  },
  {
   "cell_type": "markdown",
   "id": "5f687a06",
   "metadata": {
    "papermill": {
     "duration": 0.014165,
     "end_time": "2024-07-06T10:06:39.916298",
     "exception": false,
     "start_time": "2024-07-06T10:06:39.902133",
     "status": "completed"
    },
    "tags": []
   },
   "source": [
    "# **Univariate Analysis**"
   ]
  },
  {
   "cell_type": "code",
   "execution_count": 11,
   "id": "5359b8f8",
   "metadata": {
    "execution": {
     "iopub.execute_input": "2024-07-06T10:06:39.948722Z",
     "iopub.status.busy": "2024-07-06T10:06:39.947508Z",
     "iopub.status.idle": "2024-07-06T10:06:41.803491Z",
     "shell.execute_reply": "2024-07-06T10:06:41.801948Z"
    },
    "papermill": {
     "duration": 1.873898,
     "end_time": "2024-07-06T10:06:41.806209",
     "exception": false,
     "start_time": "2024-07-06T10:06:39.932311",
     "status": "completed"
    },
    "tags": []
   },
   "outputs": [
    {
     "data": {
      "image/png": "[encoded data removed]",
      "text/plain": [
       "<Figure size 1000x500 with 1 Axes>"
      ]
     },
     "metadata": {},
     "output_type": "display_data"
    }
   ],
   "source": [
    "import seaborn as sns\n",
    "import matplotlib.pyplot as plt\n",
    "plt.figure(figsize=(10,5))\n",
    "sns.countplot(x = 'Selling_type',data = car_data)\n",
    "plt.title('SellingType Graph')\n",
    "plt.show()"
   ]
  },
  {
   "cell_type": "code",
   "execution_count": 12,
   "id": "f1fa2baa",
   "metadata": {
    "execution": {
     "iopub.execute_input": "2024-07-06T10:06:41.837553Z",
     "iopub.status.busy": "2024-07-06T10:06:41.837080Z",
     "iopub.status.idle": "2024-07-06T10:06:42.210250Z",
     "shell.execute_reply": "2024-07-06T10:06:42.208454Z"
    },
    "papermill": {
     "duration": 0.393069,
     "end_time": "2024-07-06T10:06:42.213320",
     "exception": false,
     "start_time": "2024-07-06T10:06:41.820251",
     "status": "completed"
    },
    "tags": []
   },
   "outputs": [
    {
     "data": {
      "image/png": "[encoded data removed]",
      "text/plain": [
       "<Figure size 1000x500 with 1 Axes>"
      ]
     },
     "metadata": {},
     "output_type": "display_data"
    }
   ],
   "source": [
    "plt.figure(figsize=(10,5))\n",
    "sns.countplot(x = 'Fuel_Type',data = car_data)\n",
    "plt.title('Fuel Type Graph')\n",
    "plt.show()"
   ]
  },
  {
   "cell_type": "code",
   "execution_count": 13,
   "id": "dcef4786",
   "metadata": {
    "execution": {
     "iopub.execute_input": "2024-07-06T10:06:42.244083Z",
     "iopub.status.busy": "2024-07-06T10:06:42.243542Z",
     "iopub.status.idle": "2024-07-06T10:06:42.514310Z",
     "shell.execute_reply": "2024-07-06T10:06:42.512949Z"
    },
    "papermill": {
     "duration": 0.289456,
     "end_time": "2024-07-06T10:06:42.517227",
     "exception": false,
     "start_time": "2024-07-06T10:06:42.227771",
     "status": "completed"
    },
    "tags": []
   },
   "outputs": [
    {
     "data": {
      "image/png": "[encoded data removed]",
      "text/plain": [
       "<Figure size 1000x500 with 1 Axes>"
      ]
     },
     "metadata": {},
     "output_type": "display_data"
    }
   ],
   "source": [
    "plt.figure(figsize=(10,5))\n",
    "sns.countplot(x = 'Transmission',data = car_data)\n",
    "plt.title('Transmission Graph')\n",
    "plt.show()"
   ]
  },
  {
   "cell_type": "code",
   "execution_count": 14,
   "id": "d721cd6c",
   "metadata": {
    "execution": {
     "iopub.execute_input": "2024-07-06T10:06:42.551327Z",
     "iopub.status.busy": "2024-07-06T10:06:42.550913Z",
     "iopub.status.idle": "2024-07-06T10:06:43.026769Z",
     "shell.execute_reply": "2024-07-06T10:06:43.025697Z"
    },
    "papermill": {
     "duration": 0.49632,
     "end_time": "2024-07-06T10:06:43.029289",
     "exception": false,
     "start_time": "2024-07-06T10:06:42.532969",
     "status": "completed"
    },
    "tags": []
   },
   "outputs": [
    {
     "name": "stderr",
     "output_type": "stream",
     "text": [
      "/opt/conda/lib/python3.10/site-packages/seaborn/_oldcore.py:1119: FutureWarning: use_inf_as_na option is deprecated and will be removed in a future version. Convert inf values to NaN before operating instead.\n",
      "  with pd.option_context('mode.use_inf_as_na', True):\n"
     ]
    },
    {
     "data": {
      "image/png": "[encoded data removed]",
      "text/plain": [
       "<Figure size 1000x600 with 1 Axes>"
      ]
     },
     "metadata": {},
     "output_type": "display_data"
    }
   ],
   "source": [
    "plt.figure(figsize=(10, 6))\n",
    "sns.histplot(car_data['Selling_Price'], bins=30, kde=True)\n",
    "plt.title('Distribution of Car Prices')\n",
    "plt.xlabel('Price')\n",
    "plt.ylabel('Frequency')\n",
    "plt.show()"
   ]
  },
  {
   "cell_type": "code",
   "execution_count": 15,
   "id": "a7b32de3",
   "metadata": {
    "execution": {
     "iopub.execute_input": "2024-07-06T10:06:43.063651Z",
     "iopub.status.busy": "2024-07-06T10:06:43.063132Z",
     "iopub.status.idle": "2024-07-06T10:06:43.543337Z",
     "shell.execute_reply": "2024-07-06T10:06:43.542005Z"
    },
    "papermill": {
     "duration": 0.501162,
     "end_time": "2024-07-06T10:06:43.546271",
     "exception": false,
     "start_time": "2024-07-06T10:06:43.045109",
     "status": "completed"
    },
    "tags": []
   },
   "outputs": [
    {
     "name": "stderr",
     "output_type": "stream",
     "text": [
      "/opt/conda/lib/python3.10/site-packages/seaborn/_oldcore.py:1119: FutureWarning: use_inf_as_na option is deprecated and will be removed in a future version. Convert inf values to NaN before operating instead.\n",
      "  with pd.option_context('mode.use_inf_as_na', True):\n"
     ]
    },
    {
     "data": {
      "image/png": "[encoded data removed]",
      "text/plain": [
       "<Figure size 1000x600 with 1 Axes>"
      ]
     },
     "metadata": {},
     "output_type": "display_data"
    }
   ],
   "source": [
    "plt.figure(figsize=(10, 6))\n",
    "sns.histplot(car_data['Present_Price'], bins=30, kde=True)\n",
    "plt.title('Distribution of Car Prices')\n",
    "plt.xlabel('Price')\n",
    "plt.ylabel('Frequency')\n",
    "plt.show()"
   ]
  },
  {
   "cell_type": "markdown",
   "id": "284a3f55",
   "metadata": {
    "papermill": {
     "duration": 0.019099,
     "end_time": "2024-07-06T10:06:43.583800",
     "exception": false,
     "start_time": "2024-07-06T10:06:43.564701",
     "status": "completed"
    },
    "tags": []
   },
   "source": [
    "# **Bivariate Analysis**"
   ]
  },
  {
   "cell_type": "code",
   "execution_count": 16,
   "id": "0ab604ae",
   "metadata": {
    "execution": {
     "iopub.execute_input": "2024-07-06T10:06:43.618121Z",
     "iopub.status.busy": "2024-07-06T10:06:43.617713Z",
     "iopub.status.idle": "2024-07-06T10:06:43.922990Z",
     "shell.execute_reply": "2024-07-06T10:06:43.921628Z"
    },
    "papermill": {
     "duration": 0.325243,
     "end_time": "2024-07-06T10:06:43.925749",
     "exception": false,
     "start_time": "2024-07-06T10:06:43.600506",
     "status": "completed"
    },
    "tags": []
   },
   "outputs": [
    {
     "data": {
      "image/png": "[encoded data removed]",
      "text/plain": [
       "<Figure size 1000x600 with 1 Axes>"
      ]
     },
     "metadata": {},
     "output_type": "display_data"
    }
   ],
   "source": [
    "plt.figure(figsize=(10, 6))\n",
    "sns.scatterplot(x='Driven_kms', y='Selling_Price', data=car_data)\n",
    "plt.title('Price vs Driven_kms')\n",
    "plt.xlabel('Driven_kms')\n",
    "plt.ylabel('Price')\n",
    "plt.show()"
   ]
  },
  {
   "cell_type": "code",
   "execution_count": 17,
   "id": "f69ae024",
   "metadata": {
    "execution": {
     "iopub.execute_input": "2024-07-06T10:06:43.963694Z",
     "iopub.status.busy": "2024-07-06T10:06:43.963176Z",
     "iopub.status.idle": "2024-07-06T10:06:44.218789Z",
     "shell.execute_reply": "2024-07-06T10:06:44.217671Z"
    },
    "papermill": {
     "duration": 0.277661,
     "end_time": "2024-07-06T10:06:44.222026",
     "exception": false,
     "start_time": "2024-07-06T10:06:43.944365",
     "status": "completed"
    },
    "tags": []
   },
   "outputs": [
    {
     "data": {
      "image/png": "[encoded data removed]",
      "text/plain": [
       "<Figure size 1000x600 with 1 Axes>"
      ]
     },
     "metadata": {},
     "output_type": "display_data"
    }
   ],
   "source": [
    "plt.figure(figsize=(10, 6))\n",
    "sns.boxplot(x='Fuel_Type', y='Selling_Price', data=car_data)\n",
    "plt.title('Price by Fuel Type')\n",
    "plt.xlabel('Fuel Type')\n",
    "plt.ylabel('Price')\n",
    "plt.show()"
   ]
  },
  {
   "cell_type": "markdown",
   "id": "37c5e34b",
   "metadata": {
    "papermill": {
     "duration": 0.016459,
     "end_time": "2024-07-06T10:06:44.255928",
     "exception": false,
     "start_time": "2024-07-06T10:06:44.239469",
     "status": "completed"
    },
    "tags": []
   },
   "source": [
    "**Handling Outliers**"
   ]
  },
  {
   "cell_type": "code",
   "execution_count": 18,
   "id": "d779d7f2",
   "metadata": {
    "execution": {
     "iopub.execute_input": "2024-07-06T10:06:44.291545Z",
     "iopub.status.busy": "2024-07-06T10:06:44.291160Z",
     "iopub.status.idle": "2024-07-06T10:06:44.298144Z",
     "shell.execute_reply": "2024-07-06T10:06:44.296656Z"
    },
    "papermill": {
     "duration": 0.027763,
     "end_time": "2024-07-06T10:06:44.300698",
     "exception": false,
     "start_time": "2024-07-06T10:06:44.272935",
     "status": "completed"
    },
    "tags": []
   },
   "outputs": [],
   "source": [
    "car_data = car_data[car_data['Selling_Price']<25.000000]"
   ]
  },
  {
   "cell_type": "markdown",
   "id": "0f760c05",
   "metadata": {
    "papermill": {
     "duration": 0.01759,
     "end_time": "2024-07-06T10:06:44.336487",
     "exception": false,
     "start_time": "2024-07-06T10:06:44.318897",
     "status": "completed"
    },
    "tags": []
   },
   "source": [
    "**importing dependencies**"
   ]
  },
  {
   "cell_type": "code",
   "execution_count": 19,
   "id": "8305b769",
   "metadata": {
    "execution": {
     "iopub.execute_input": "2024-07-06T10:06:44.374439Z",
     "iopub.status.busy": "2024-07-06T10:06:44.373896Z",
     "iopub.status.idle": "2024-07-06T10:06:44.789407Z",
     "shell.execute_reply": "2024-07-06T10:06:44.788353Z"
    },
    "papermill": {
     "duration": 0.437492,
     "end_time": "2024-07-06T10:06:44.792200",
     "exception": false,
     "start_time": "2024-07-06T10:06:44.354708",
     "status": "completed"
    },
    "tags": []
   },
   "outputs": [],
   "source": [
    "from sklearn.model_selection import train_test_split\n",
    "from sklearn.linear_model import LinearRegression\n",
    "from sklearn.preprocessing import OneHotEncoder\n",
    "from sklearn.metrics import r2_score\n",
    "from sklearn.compose import make_column_transformer\n",
    "from sklearn.pipeline import make_pipeline"
   ]
  },
  {
   "cell_type": "code",
   "execution_count": 20,
   "id": "a89d6b99",
   "metadata": {
    "execution": {
     "iopub.execute_input": "2024-07-06T10:06:44.828460Z",
     "iopub.status.busy": "2024-07-06T10:06:44.828033Z",
     "iopub.status.idle": "2024-07-06T10:06:44.834900Z",
     "shell.execute_reply": "2024-07-06T10:06:44.833795Z"
    },
    "papermill": {
     "duration": 0.028135,
     "end_time": "2024-07-06T10:06:44.837894",
     "exception": false,
     "start_time": "2024-07-06T10:06:44.809759",
     "status": "completed"
    },
    "tags": []
   },
   "outputs": [],
   "source": [
    "y  = car_data['Selling_Price']\n",
    "X = car_data.drop(columns = ['Selling_Price'])"
   ]
  },
  {
   "cell_type": "code",
   "execution_count": 21,
   "id": "8261edbe",
   "metadata": {
    "execution": {
     "iopub.execute_input": "2024-07-06T10:06:44.874459Z",
     "iopub.status.busy": "2024-07-06T10:06:44.874043Z",
     "iopub.status.idle": "2024-07-06T10:06:44.883663Z",
     "shell.execute_reply": "2024-07-06T10:06:44.882378Z"
    },
    "papermill": {
     "duration": 0.030681,
     "end_time": "2024-07-06T10:06:44.886202",
     "exception": false,
     "start_time": "2024-07-06T10:06:44.855521",
     "status": "completed"
    },
    "tags": []
   },
   "outputs": [],
   "source": [
    "X_train,X_test,y_train,y_test = train_test_split(X,y,test_size =0.2)"
   ]
  },
  {
   "cell_type": "markdown",
   "id": "11654806",
   "metadata": {
    "papermill": {
     "duration": 0.016461,
     "end_time": "2024-07-06T10:06:44.919882",
     "exception": false,
     "start_time": "2024-07-06T10:06:44.903421",
     "status": "completed"
    },
    "tags": []
   },
   "source": [
    "**Transforming categorical to numerical values and creating pipeline**"
   ]
  },
  {
   "cell_type": "code",
   "execution_count": 22,
   "id": "e766a69d",
   "metadata": {
    "execution": {
     "iopub.execute_input": "2024-07-06T10:06:44.958051Z",
     "iopub.status.busy": "2024-07-06T10:06:44.957626Z",
     "iopub.status.idle": "2024-07-06T10:06:44.971943Z",
     "shell.execute_reply": "2024-07-06T10:06:44.970694Z"
    },
    "papermill": {
     "duration": 0.037338,
     "end_time": "2024-07-06T10:06:44.974683",
     "exception": false,
     "start_time": "2024-07-06T10:06:44.937345",
     "status": "completed"
    },
    "tags": []
   },
   "outputs": [
    {
     "data": {
      "text/html": [
       "<style>#sk-container-id-1 {color: black;background-color: white;}#sk-container-id-1 pre{padding: 0;}#sk-container-id-1 div.sk-toggleable {background-color: white;}#sk-container-id-1 label.sk-toggleable__label {cursor: pointer;display: block;width: 100%;margin-bottom: 0;padding: 0.3em;box-sizing: border-box;text-align: center;}#sk-container-id-1 label.sk-toggleable__label-arrow:before {content: \"▸\";float: left;margin-right: 0.25em;color: #696969;}#sk-container-id-1 label.sk-toggleable__label-arrow:hover:before {color: black;}#sk-container-id-1 div.sk-estimator:hover label.sk-toggleable__label-arrow:before {color: black;}#sk-container-id-1 div.sk-toggleable__content {max-height: 0;max-width: 0;overflow: hidden;text-align: left;background-color: #f0f8ff;}#sk-container-id-1 div.sk-toggleable__content pre {margin: 0.2em;color: black;border-radius: 0.25em;background-color: #f0f8ff;}#sk-container-id-1 input.sk-toggleable__control:checked~div.sk-toggleable__content {max-height: 200px;max-width: 100%;overflow: auto;}#sk-container-id-1 input.sk-toggleable__control:checked~label.sk-toggleable__label-arrow:before {content: \"▾\";}#sk-container-id-1 div.sk-estimator input.sk-toggleable__control:checked~label.sk-toggleable__label {background-color: #d4ebff;}#sk-container-id-1 div.sk-label input.sk-toggleable__control:checked~label.sk-toggleable__label {background-color: #d4ebff;}#sk-container-id-1 input.sk-hidden--visually {border: 0;clip: rect(1px 1px 1px 1px);clip: rect(1px, 1px, 1px, 1px);height: 1px;margin: -1px;overflow: hidden;padding: 0;position: absolute;width: 1px;}#sk-container-id-1 div.sk-estimator {font-family: monospace;background-color: #f0f8ff;border: 1px dotted black;border-radius: 0.25em;box-sizing: border-box;margin-bottom: 0.5em;}#sk-container-id-1 div.sk-estimator:hover {background-color: #d4ebff;}#sk-container-id-1 div.sk-parallel-item::after {content: \"\";width: 100%;border-bottom: 1px solid gray;flex-grow: 1;}#sk-container-id-1 div.sk-label:hover label.sk-toggleable__label {background-color: #d4ebff;}#sk-container-id-1 div.sk-serial::before {content: \"\";position: absolute;border-left: 1px solid gray;box-sizing: border-box;top: 0;bottom: 0;left: 50%;z-index: 0;}#sk-container-id-1 div.sk-serial {display: flex;flex-direction: column;align-items: center;background-color: white;padding-right: 0.2em;padding-left: 0.2em;position: relative;}#sk-container-id-1 div.sk-item {position: relative;z-index: 1;}#sk-container-id-1 div.sk-parallel {display: flex;align-items: stretch;justify-content: center;background-color: white;position: relative;}#sk-container-id-1 div.sk-item::before, #sk-container-id-1 div.sk-parallel-item::before {content: \"\";position: absolute;border-left: 1px solid gray;box-sizing: border-box;top: 0;bottom: 0;left: 50%;z-index: -1;}#sk-container-id-1 div.sk-parallel-item {display: flex;flex-direction: column;z-index: 1;position: relative;background-color: white;}#sk-container-id-1 div.sk-parallel-item:first-child::after {align-self: flex-end;width: 50%;}#sk-container-id-1 div.sk-parallel-item:last-child::after {align-self: flex-start;width: 50%;}#sk-container-id-1 div.sk-parallel-item:only-child::after {width: 0;}#sk-container-id-1 div.sk-dashed-wrapped {border: 1px dashed gray;margin: 0 0.4em 0.5em 0.4em;box-sizing: border-box;padding-bottom: 0.4em;background-color: white;}#sk-container-id-1 div.sk-label label {font-family: monospace;font-weight: bold;display: inline-block;line-height: 1.2em;}#sk-container-id-1 div.sk-label-container {text-align: center;}#sk-container-id-1 div.sk-container {/* jupyter's `normalize.less` sets `[hidden] { display: none; }` but bootstrap.min.css set `[hidden] { display: none !important; }` so we also need the `!important` here to be able to override the default hidden behavior on the sphinx rendered scikit-learn.org. See: https://github.com/scikit-learn/scikit-learn/issues/21755 */display: inline-block !important;position: relative;}#sk-container-id-1 div.sk-text-repr-fallback {display: none;}</style><div id=\"sk-container-id-1\" class=\"sk-top-container\"><div class=\"sk-text-repr-fallback\"><pre>OneHotEncoder()</pre><b>In a Jupyter environment, please rerun this cell to show the HTML representation or trust the notebook. <br />On GitHub, the HTML representation is unable to render, please try loading this page with nbviewer.org.</b></div><div class=\"sk-container\" hidden><div class=\"sk-item\"><div class=\"sk-estimator sk-toggleable\"><input class=\"sk-toggleable__control sk-hidden--visually\" id=\"sk-estimator-id-1\" type=\"checkbox\" checked><label for=\"sk-estimator-id-1\" class=\"sk-toggleable__label sk-toggleable__label-arrow\">OneHotEncoder</label><div class=\"sk-toggleable__content\"><pre>OneHotEncoder()</pre></div></div></div></div></div>"
      ],
      "text/plain": [
       "OneHotEncoder()"
      ]
     },
     "execution_count": 22,
     "metadata": {},
     "output_type": "execute_result"
    }
   ],
   "source": [
    "ohe = OneHotEncoder()\n",
    "ohe.fit(X[['Car_Name','Fuel_Type','Transmission','Selling_type']])"
   ]
  },
  {
   "cell_type": "code",
   "execution_count": 23,
   "id": "717d3d7e",
   "metadata": {
    "execution": {
     "iopub.execute_input": "2024-07-06T10:06:45.013424Z",
     "iopub.status.busy": "2024-07-06T10:06:45.012506Z",
     "iopub.status.idle": "2024-07-06T10:06:45.021038Z",
     "shell.execute_reply": "2024-07-06T10:06:45.019863Z"
    },
    "papermill": {
     "duration": 0.030353,
     "end_time": "2024-07-06T10:06:45.023716",
     "exception": false,
     "start_time": "2024-07-06T10:06:44.993363",
     "status": "completed"
    },
    "tags": []
   },
   "outputs": [
    {
     "data": {
      "text/plain": [
       "[array(['800', 'Activa 3g', 'Activa 4g', 'Bajaj  ct 100',\n",
       "        'Bajaj Avenger 150', 'Bajaj Avenger 150 street',\n",
       "        'Bajaj Avenger 220', 'Bajaj Avenger 220 dtsi',\n",
       "        'Bajaj Avenger Street 220', 'Bajaj Discover 100',\n",
       "        'Bajaj Discover 125', 'Bajaj Dominar 400', 'Bajaj Pulsar  NS 200',\n",
       "        'Bajaj Pulsar 135 LS', 'Bajaj Pulsar 150', 'Bajaj Pulsar 220 F',\n",
       "        'Bajaj Pulsar NS 200', 'Bajaj Pulsar RS200', 'Hero  CBZ Xtreme',\n",
       "        'Hero  Ignitor Disc', 'Hero Extreme', 'Hero Glamour',\n",
       "        'Hero Honda CBZ extreme', 'Hero Honda Passion Pro', 'Hero Hunk',\n",
       "        'Hero Passion Pro', 'Hero Passion X pro', 'Hero Splender Plus',\n",
       "        'Hero Splender iSmart', 'Hero Super Splendor', 'Honda Activa 125',\n",
       "        'Honda Activa 4G', 'Honda CB Hornet 160R', 'Honda CB Shine',\n",
       "        'Honda CB Trigger', 'Honda CB Unicorn', 'Honda CB twister',\n",
       "        'Honda CBR 150', 'Honda Dream Yuga ', 'Honda Karizma',\n",
       "        'Hyosung GT250R', 'KTM 390 Duke ', 'KTM RC200', 'KTM RC390',\n",
       "        'Mahindra Mojo XT300', 'Royal Enfield Bullet 350',\n",
       "        'Royal Enfield Classic 350', 'Royal Enfield Classic 500',\n",
       "        'Royal Enfield Thunder 350', 'Royal Enfield Thunder 500',\n",
       "        'Suzuki Access 125', 'TVS Apache RTR 160', 'TVS Apache RTR 180',\n",
       "        'TVS Jupyter', 'TVS Sport ', 'TVS Wego', 'UM Renegade Mojave',\n",
       "        'Yamaha FZ  v 2.0', 'Yamaha FZ 16', 'Yamaha FZ S ',\n",
       "        'Yamaha FZ S V 2.0', 'Yamaha Fazer ', 'alto 800', 'alto k10',\n",
       "        'amaze', 'baleno', 'brio', 'camry', 'ciaz', 'city', 'corolla',\n",
       "        'corolla altis', 'creta', 'dzire', 'elantra', 'eon', 'ertiga',\n",
       "        'etios cross', 'etios g', 'etios gd', 'etios liva', 'fortuner',\n",
       "        'grand i10', 'i10', 'i20', 'ignis', 'innova', 'jazz', 'omni',\n",
       "        'ritz', 's cross', 'swift', 'sx4', 'verna', 'vitara brezza',\n",
       "        'wagon r', 'xcent'], dtype=object),\n",
       " array(['CNG', 'Diesel', 'Petrol'], dtype=object),\n",
       " array(['Automatic', 'Manual'], dtype=object),\n",
       " array(['Dealer', 'Individual'], dtype=object)]"
      ]
     },
     "execution_count": 23,
     "metadata": {},
     "output_type": "execute_result"
    }
   ],
   "source": [
    "ohe.categories_"
   ]
  },
  {
   "cell_type": "code",
   "execution_count": 24,
   "id": "a2720b1e",
   "metadata": {
    "execution": {
     "iopub.execute_input": "2024-07-06T10:06:45.062251Z",
     "iopub.status.busy": "2024-07-06T10:06:45.061835Z",
     "iopub.status.idle": "2024-07-06T10:06:45.068305Z",
     "shell.execute_reply": "2024-07-06T10:06:45.067090Z"
    },
    "papermill": {
     "duration": 0.028446,
     "end_time": "2024-07-06T10:06:45.070692",
     "exception": false,
     "start_time": "2024-07-06T10:06:45.042246",
     "status": "completed"
    },
    "tags": []
   },
   "outputs": [],
   "source": [
    "column_trans = make_column_transformer((OneHotEncoder(categories=ohe.categories_),['Car_Name','Fuel_Type','Transmission','Selling_type']),remainder = 'passthrough')"
   ]
  },
  {
   "cell_type": "code",
   "execution_count": 25,
   "id": "50ea4c95",
   "metadata": {
    "execution": {
     "iopub.execute_input": "2024-07-06T10:06:45.107375Z",
     "iopub.status.busy": "2024-07-06T10:06:45.106999Z",
     "iopub.status.idle": "2024-07-06T10:06:45.112966Z",
     "shell.execute_reply": "2024-07-06T10:06:45.111486Z"
    },
    "papermill": {
     "duration": 0.027534,
     "end_time": "2024-07-06T10:06:45.115650",
     "exception": false,
     "start_time": "2024-07-06T10:06:45.088116",
     "status": "completed"
    },
    "tags": []
   },
   "outputs": [],
   "source": [
    "lr = LinearRegression()"
   ]
  },
  {
   "cell_type": "code",
   "execution_count": 26,
   "id": "5de08df7",
   "metadata": {
    "execution": {
     "iopub.execute_input": "2024-07-06T10:06:45.155295Z",
     "iopub.status.busy": "2024-07-06T10:06:45.154900Z",
     "iopub.status.idle": "2024-07-06T10:06:45.160335Z",
     "shell.execute_reply": "2024-07-06T10:06:45.159152Z"
    },
    "papermill": {
     "duration": 0.027901,
     "end_time": "2024-07-06T10:06:45.162927",
     "exception": false,
     "start_time": "2024-07-06T10:06:45.135026",
     "status": "completed"
    },
    "tags": []
   },
   "outputs": [],
   "source": [
    "pipe = make_pipeline(column_trans,lr)"
   ]
  },
  {
   "cell_type": "code",
   "execution_count": 27,
   "id": "4f687270",
   "metadata": {
    "execution": {
     "iopub.execute_input": "2024-07-06T10:06:45.200861Z",
     "iopub.status.busy": "2024-07-06T10:06:45.199781Z",
     "iopub.status.idle": "2024-07-06T10:06:45.354559Z",
     "shell.execute_reply": "2024-07-06T10:06:45.353271Z"
    },
    "papermill": {
     "duration": 0.17658,
     "end_time": "2024-07-06T10:06:45.357151",
     "exception": false,
     "start_time": "2024-07-06T10:06:45.180571",
     "status": "completed"
    },
    "tags": []
   },
   "outputs": [
    {
     "data": {
      "text/html": [
       "<style>#sk-container-id-2 {color: black;background-color: white;}#sk-container-id-2 pre{padding: 0;}#sk-container-id-2 div.sk-toggleable {background-color: white;}#sk-container-id-2 label.sk-toggleable__label {cursor: pointer;display: block;width: 100%;margin-bottom: 0;padding: 0.3em;box-sizing: border-box;text-align: center;}#sk-container-id-2 label.sk-toggleable__label-arrow:before {content: \"▸\";float: left;margin-right: 0.25em;color: #696969;}#sk-container-id-2 label.sk-toggleable__label-arrow:hover:before {color: black;}#sk-container-id-2 div.sk-estimator:hover label.sk-toggleable__label-arrow:before {color: black;}#sk-container-id-2 div.sk-toggleable__content {max-height: 0;max-width: 0;overflow: hidden;text-align: left;background-color: #f0f8ff;}#sk-container-id-2 div.sk-toggleable__content pre {margin: 0.2em;color: black;border-radius: 0.25em;background-color: #f0f8ff;}#sk-container-id-2 input.sk-toggleable__control:checked~div.sk-toggleable__content {max-height: 200px;max-width: 100%;overflow: auto;}#sk-container-id-2 input.sk-toggleable__control:checked~label.sk-toggleable__label-arrow:before {content: \"▾\";}#sk-container-id-2 div.sk-estimator input.sk-toggleable__control:checked~label.sk-toggleable__label {background-color: #d4ebff;}#sk-container-id-2 div.sk-label input.sk-toggleable__control:checked~label.sk-toggleable__label {background-color: #d4ebff;}#sk-container-id-2 input.sk-hidden--visually {border: 0;clip: rect(1px 1px 1px 1px);clip: rect(1px, 1px, 1px, 1px);height: 1px;margin: -1px;overflow: hidden;padding: 0;position: absolute;width: 1px;}#sk-container-id-2 div.sk-estimator {font-family: monospace;background-color: #f0f8ff;border: 1px dotted black;border-radius: 0.25em;box-sizing: border-box;margin-bottom: 0.5em;}#sk-container-id-2 div.sk-estimator:hover {background-color: #d4ebff;}#sk-container-id-2 div.sk-parallel-item::after {content: \"\";width: 100%;border-bottom: 1px solid gray;flex-grow: 1;}#sk-container-id-2 div.sk-label:hover label.sk-toggleable__label {background-color: #d4ebff;}#sk-container-id-2 div.sk-serial::before {content: \"\";position: absolute;border-left: 1px solid gray;box-sizing: border-box;top: 0;bottom: 0;left: 50%;z-index: 0;}#sk-container-id-2 div.sk-serial {display: flex;flex-direction: column;align-items: center;background-color: white;padding-right: 0.2em;padding-left: 0.2em;position: relative;}#sk-container-id-2 div.sk-item {position: relative;z-index: 1;}#sk-container-id-2 div.sk-parallel {display: flex;align-items: stretch;justify-content: center;background-color: white;position: relative;}#sk-container-id-2 div.sk-item::before, #sk-container-id-2 div.sk-parallel-item::before {content: \"\";position: absolute;border-left: 1px solid gray;box-sizing: border-box;top: 0;bottom: 0;left: 50%;z-index: -1;}#sk-container-id-2 div.sk-parallel-item {display: flex;flex-direction: column;z-index: 1;position: relative;background-color: white;}#sk-container-id-2 div.sk-parallel-item:first-child::after {align-self: flex-end;width: 50%;}#sk-container-id-2 div.sk-parallel-item:last-child::after {align-self: flex-start;width: 50%;}#sk-container-id-2 div.sk-parallel-item:only-child::after {width: 0;}#sk-container-id-2 div.sk-dashed-wrapped {border: 1px dashed gray;margin: 0 0.4em 0.5em 0.4em;box-sizing: border-box;padding-bottom: 0.4em;background-color: white;}#sk-container-id-2 div.sk-label label {font-family: monospace;font-weight: bold;display: inline-block;line-height: 1.2em;}#sk-container-id-2 div.sk-label-container {text-align: center;}#sk-container-id-2 div.sk-container {/* jupyter's `normalize.less` sets `[hidden] { display: none; }` but bootstrap.min.css set `[hidden] { display: none !important; }` so we also need the `!important` here to be able to override the default hidden behavior on the sphinx rendered scikit-learn.org. See: https://github.com/scikit-learn/scikit-learn/issues/21755 */display: inline-block !important;position: relative;}#sk-container-id-2 div.sk-text-repr-fallback {display: none;}</style><div id=\"sk-container-id-2\" class=\"sk-top-container\"><div class=\"sk-text-repr-fallback\"><pre>Pipeline(steps=[(&#x27;columntransformer&#x27;,\n",
       "                 ColumnTransformer(remainder=&#x27;passthrough&#x27;,\n",
       "                                   transformers=[(&#x27;onehotencoder&#x27;,\n",
       "                                                  OneHotEncoder(categories=[array([&#x27;800&#x27;, &#x27;Activa 3g&#x27;, &#x27;Activa 4g&#x27;, &#x27;Bajaj  ct 100&#x27;,\n",
       "       &#x27;Bajaj Avenger 150&#x27;, &#x27;Bajaj Avenger 150 street&#x27;,\n",
       "       &#x27;Bajaj Avenger 220&#x27;, &#x27;Bajaj Avenger 220 dtsi&#x27;,\n",
       "       &#x27;Bajaj Avenger Street 220&#x27;, &#x27;Bajaj Discover 100&#x27;,\n",
       "       &#x27;Bajaj Discover 125&#x27;, &#x27;Bajaj Dominar 400&#x27;, &#x27;Baj...\n",
       "       &#x27;grand i10&#x27;, &#x27;i10&#x27;, &#x27;i20&#x27;, &#x27;ignis&#x27;, &#x27;innova&#x27;, &#x27;jazz&#x27;, &#x27;omni&#x27;,\n",
       "       &#x27;ritz&#x27;, &#x27;s cross&#x27;, &#x27;swift&#x27;, &#x27;sx4&#x27;, &#x27;verna&#x27;, &#x27;vitara brezza&#x27;,\n",
       "       &#x27;wagon r&#x27;, &#x27;xcent&#x27;], dtype=object),\n",
       "                                                                            array([&#x27;CNG&#x27;, &#x27;Diesel&#x27;, &#x27;Petrol&#x27;], dtype=object),\n",
       "                                                                            array([&#x27;Automatic&#x27;, &#x27;Manual&#x27;], dtype=object),\n",
       "                                                                            array([&#x27;Dealer&#x27;, &#x27;Individual&#x27;], dtype=object)]),\n",
       "                                                  [&#x27;Car_Name&#x27;, &#x27;Fuel_Type&#x27;,\n",
       "                                                   &#x27;Transmission&#x27;,\n",
       "                                                   &#x27;Selling_type&#x27;])])),\n",
       "                (&#x27;linearregression&#x27;, LinearRegression())])</pre><b>In a Jupyter environment, please rerun this cell to show the HTML representation or trust the notebook. <br />On GitHub, the HTML representation is unable to render, please try loading this page with nbviewer.org.</b></div><div class=\"sk-container\" hidden><div class=\"sk-item sk-dashed-wrapped\"><div class=\"sk-label-container\"><div class=\"sk-label sk-toggleable\"><input class=\"sk-toggleable__control sk-hidden--visually\" id=\"sk-estimator-id-2\" type=\"checkbox\" ><label for=\"sk-estimator-id-2\" class=\"sk-toggleable__label sk-toggleable__label-arrow\">Pipeline</label><div class=\"sk-toggleable__content\"><pre>Pipeline(steps=[(&#x27;columntransformer&#x27;,\n",
       "                 ColumnTransformer(remainder=&#x27;passthrough&#x27;,\n",
       "                                   transformers=[(&#x27;onehotencoder&#x27;,\n",
       "                                                  OneHotEncoder(categories=[array([&#x27;800&#x27;, &#x27;Activa 3g&#x27;, &#x27;Activa 4g&#x27;, &#x27;Bajaj  ct 100&#x27;,\n",
       "       &#x27;Bajaj Avenger 150&#x27;, &#x27;Bajaj Avenger 150 street&#x27;,\n",
       "       &#x27;Bajaj Avenger 220&#x27;, &#x27;Bajaj Avenger 220 dtsi&#x27;,\n",
       "       &#x27;Bajaj Avenger Street 220&#x27;, &#x27;Bajaj Discover 100&#x27;,\n",
       "       &#x27;Bajaj Discover 125&#x27;, &#x27;Bajaj Dominar 400&#x27;, &#x27;Baj...\n",
       "       &#x27;grand i10&#x27;, &#x27;i10&#x27;, &#x27;i20&#x27;, &#x27;ignis&#x27;, &#x27;innova&#x27;, &#x27;jazz&#x27;, &#x27;omni&#x27;,\n",
       "       &#x27;ritz&#x27;, &#x27;s cross&#x27;, &#x27;swift&#x27;, &#x27;sx4&#x27;, &#x27;verna&#x27;, &#x27;vitara brezza&#x27;,\n",
       "       &#x27;wagon r&#x27;, &#x27;xcent&#x27;], dtype=object),\n",
       "                                                                            array([&#x27;CNG&#x27;, &#x27;Diesel&#x27;, &#x27;Petrol&#x27;], dtype=object),\n",
       "                                                                            array([&#x27;Automatic&#x27;, &#x27;Manual&#x27;], dtype=object),\n",
       "                                                                            array([&#x27;Dealer&#x27;, &#x27;Individual&#x27;], dtype=object)]),\n",
       "                                                  [&#x27;Car_Name&#x27;, &#x27;Fuel_Type&#x27;,\n",
       "                                                   &#x27;Transmission&#x27;,\n",
       "                                                   &#x27;Selling_type&#x27;])])),\n",
       "                (&#x27;linearregression&#x27;, LinearRegression())])</pre></div></div></div><div class=\"sk-serial\"><div class=\"sk-item sk-dashed-wrapped\"><div class=\"sk-label-container\"><div class=\"sk-label sk-toggleable\"><input class=\"sk-toggleable__control sk-hidden--visually\" id=\"sk-estimator-id-3\" type=\"checkbox\" ><label for=\"sk-estimator-id-3\" class=\"sk-toggleable__label sk-toggleable__label-arrow\">columntransformer: ColumnTransformer</label><div class=\"sk-toggleable__content\"><pre>ColumnTransformer(remainder=&#x27;passthrough&#x27;,\n",
       "                  transformers=[(&#x27;onehotencoder&#x27;,\n",
       "                                 OneHotEncoder(categories=[array([&#x27;800&#x27;, &#x27;Activa 3g&#x27;, &#x27;Activa 4g&#x27;, &#x27;Bajaj  ct 100&#x27;,\n",
       "       &#x27;Bajaj Avenger 150&#x27;, &#x27;Bajaj Avenger 150 street&#x27;,\n",
       "       &#x27;Bajaj Avenger 220&#x27;, &#x27;Bajaj Avenger 220 dtsi&#x27;,\n",
       "       &#x27;Bajaj Avenger Street 220&#x27;, &#x27;Bajaj Discover 100&#x27;,\n",
       "       &#x27;Bajaj Discover 125&#x27;, &#x27;Bajaj Dominar 400&#x27;, &#x27;Bajaj Pulsar  NS 200&#x27;,\n",
       "       &#x27;Bajaj Pulsar 135 LS&#x27;, &#x27;Ba...\n",
       "       &#x27;etios cross&#x27;, &#x27;etios g&#x27;, &#x27;etios gd&#x27;, &#x27;etios liva&#x27;, &#x27;fortuner&#x27;,\n",
       "       &#x27;grand i10&#x27;, &#x27;i10&#x27;, &#x27;i20&#x27;, &#x27;ignis&#x27;, &#x27;innova&#x27;, &#x27;jazz&#x27;, &#x27;omni&#x27;,\n",
       "       &#x27;ritz&#x27;, &#x27;s cross&#x27;, &#x27;swift&#x27;, &#x27;sx4&#x27;, &#x27;verna&#x27;, &#x27;vitara brezza&#x27;,\n",
       "       &#x27;wagon r&#x27;, &#x27;xcent&#x27;], dtype=object),\n",
       "                                                           array([&#x27;CNG&#x27;, &#x27;Diesel&#x27;, &#x27;Petrol&#x27;], dtype=object),\n",
       "                                                           array([&#x27;Automatic&#x27;, &#x27;Manual&#x27;], dtype=object),\n",
       "                                                           array([&#x27;Dealer&#x27;, &#x27;Individual&#x27;], dtype=object)]),\n",
       "                                 [&#x27;Car_Name&#x27;, &#x27;Fuel_Type&#x27;, &#x27;Transmission&#x27;,\n",
       "                                  &#x27;Selling_type&#x27;])])</pre></div></div></div><div class=\"sk-parallel\"><div class=\"sk-parallel-item\"><div class=\"sk-item\"><div class=\"sk-label-container\"><div class=\"sk-label sk-toggleable\"><input class=\"sk-toggleable__control sk-hidden--visually\" id=\"sk-estimator-id-4\" type=\"checkbox\" ><label for=\"sk-estimator-id-4\" class=\"sk-toggleable__label sk-toggleable__label-arrow\">onehotencoder</label><div class=\"sk-toggleable__content\"><pre>[&#x27;Car_Name&#x27;, &#x27;Fuel_Type&#x27;, &#x27;Transmission&#x27;, &#x27;Selling_type&#x27;]</pre></div></div></div><div class=\"sk-serial\"><div class=\"sk-item\"><div class=\"sk-estimator sk-toggleable\"><input class=\"sk-toggleable__control sk-hidden--visually\" id=\"sk-estimator-id-5\" type=\"checkbox\" ><label for=\"sk-estimator-id-5\" class=\"sk-toggleable__label sk-toggleable__label-arrow\">OneHotEncoder</label><div class=\"sk-toggleable__content\"><pre>OneHotEncoder(categories=[array([&#x27;800&#x27;, &#x27;Activa 3g&#x27;, &#x27;Activa 4g&#x27;, &#x27;Bajaj  ct 100&#x27;,\n",
       "       &#x27;Bajaj Avenger 150&#x27;, &#x27;Bajaj Avenger 150 street&#x27;,\n",
       "       &#x27;Bajaj Avenger 220&#x27;, &#x27;Bajaj Avenger 220 dtsi&#x27;,\n",
       "       &#x27;Bajaj Avenger Street 220&#x27;, &#x27;Bajaj Discover 100&#x27;,\n",
       "       &#x27;Bajaj Discover 125&#x27;, &#x27;Bajaj Dominar 400&#x27;, &#x27;Bajaj Pulsar  NS 200&#x27;,\n",
       "       &#x27;Bajaj Pulsar 135 LS&#x27;, &#x27;Bajaj Pulsar 150&#x27;, &#x27;Bajaj Pulsar 220 F&#x27;,\n",
       "       &#x27;Bajaj Pulsar NS 200&#x27;, &#x27;Bajaj Pulsar RS200&#x27;, &#x27;He...\n",
       "       &#x27;corolla altis&#x27;, &#x27;creta&#x27;, &#x27;dzire&#x27;, &#x27;elantra&#x27;, &#x27;eon&#x27;, &#x27;ertiga&#x27;,\n",
       "       &#x27;etios cross&#x27;, &#x27;etios g&#x27;, &#x27;etios gd&#x27;, &#x27;etios liva&#x27;, &#x27;fortuner&#x27;,\n",
       "       &#x27;grand i10&#x27;, &#x27;i10&#x27;, &#x27;i20&#x27;, &#x27;ignis&#x27;, &#x27;innova&#x27;, &#x27;jazz&#x27;, &#x27;omni&#x27;,\n",
       "       &#x27;ritz&#x27;, &#x27;s cross&#x27;, &#x27;swift&#x27;, &#x27;sx4&#x27;, &#x27;verna&#x27;, &#x27;vitara brezza&#x27;,\n",
       "       &#x27;wagon r&#x27;, &#x27;xcent&#x27;], dtype=object),\n",
       "                          array([&#x27;CNG&#x27;, &#x27;Diesel&#x27;, &#x27;Petrol&#x27;], dtype=object),\n",
       "                          array([&#x27;Automatic&#x27;, &#x27;Manual&#x27;], dtype=object),\n",
       "                          array([&#x27;Dealer&#x27;, &#x27;Individual&#x27;], dtype=object)])</pre></div></div></div></div></div></div><div class=\"sk-parallel-item\"><div class=\"sk-item\"><div class=\"sk-label-container\"><div class=\"sk-label sk-toggleable\"><input class=\"sk-toggleable__control sk-hidden--visually\" id=\"sk-estimator-id-6\" type=\"checkbox\" ><label for=\"sk-estimator-id-6\" class=\"sk-toggleable__label sk-toggleable__label-arrow\">remainder</label><div class=\"sk-toggleable__content\"><pre>[&#x27;Year&#x27;, &#x27;Present_Price&#x27;, &#x27;Driven_kms&#x27;]</pre></div></div></div><div class=\"sk-serial\"><div class=\"sk-item\"><div class=\"sk-estimator sk-toggleable\"><input class=\"sk-toggleable__control sk-hidden--visually\" id=\"sk-estimator-id-7\" type=\"checkbox\" ><label for=\"sk-estimator-id-7\" class=\"sk-toggleable__label sk-toggleable__label-arrow\">passthrough</label><div class=\"sk-toggleable__content\"><pre>passthrough</pre></div></div></div></div></div></div></div></div><div class=\"sk-item\"><div class=\"sk-estimator sk-toggleable\"><input class=\"sk-toggleable__control sk-hidden--visually\" id=\"sk-estimator-id-8\" type=\"checkbox\" ><label for=\"sk-estimator-id-8\" class=\"sk-toggleable__label sk-toggleable__label-arrow\">LinearRegression</label><div class=\"sk-toggleable__content\"><pre>LinearRegression()</pre></div></div></div></div></div></div></div>"
      ],
      "text/plain": [
       "Pipeline(steps=[('columntransformer',\n",
       "                 ColumnTransformer(remainder='passthrough',\n",
       "                                   transformers=[('onehotencoder',\n",
       "                                                  OneHotEncoder(categories=[array(['800', 'Activa 3g', 'Activa 4g', 'Bajaj  ct 100',\n",
       "       'Bajaj Avenger 150', 'Bajaj Avenger 150 street',\n",
       "       'Bajaj Avenger 220', 'Bajaj Avenger 220 dtsi',\n",
       "       'Bajaj Avenger Street 220', 'Bajaj Discover 100',\n",
       "       'Bajaj Discover 125', 'Bajaj Dominar 400', 'Baj...\n",
       "       'grand i10', 'i10', 'i20', 'ignis', 'innova', 'jazz', 'omni',\n",
       "       'ritz', 's cross', 'swift', 'sx4', 'verna', 'vitara brezza',\n",
       "       'wagon r', 'xcent'], dtype=object),\n",
       "                                                                            array(['CNG', 'Diesel', 'Petrol'], dtype=object),\n",
       "                                                                            array(['Automatic', 'Manual'], dtype=object),\n",
       "                                                                            array(['Dealer', 'Individual'], dtype=object)]),\n",
       "                                                  ['Car_Name', 'Fuel_Type',\n",
       "                                                   'Transmission',\n",
       "                                                   'Selling_type'])])),\n",
       "                ('linearregression', LinearRegression())])"
      ]
     },
     "execution_count": 27,
     "metadata": {},
     "output_type": "execute_result"
    }
   ],
   "source": [
    "pipe.fit(X_train,y_train)"
   ]
  },
  {
   "cell_type": "code",
   "execution_count": 28,
   "id": "775beeb0",
   "metadata": {
    "execution": {
     "iopub.execute_input": "2024-07-06T10:06:45.395777Z",
     "iopub.status.busy": "2024-07-06T10:06:45.395278Z",
     "iopub.status.idle": "2024-07-06T10:06:45.409160Z",
     "shell.execute_reply": "2024-07-06T10:06:45.408128Z"
    },
    "papermill": {
     "duration": 0.036472,
     "end_time": "2024-07-06T10:06:45.411795",
     "exception": false,
     "start_time": "2024-07-06T10:06:45.375323",
     "status": "completed"
    },
    "tags": []
   },
   "outputs": [],
   "source": [
    "y_pred = pipe.predict(X_test)"
   ]
  },
  {
   "cell_type": "markdown",
   "id": "5705574b",
   "metadata": {
    "papermill": {
     "duration": 0.017668,
     "end_time": "2024-07-06T10:06:45.447447",
     "exception": false,
     "start_time": "2024-07-06T10:06:45.429779",
     "status": "completed"
    },
    "tags": []
   },
   "source": [
    "**r2 score without selecting random state**"
   ]
  },
  {
   "cell_type": "code",
   "execution_count": 29,
   "id": "99e06bc9",
   "metadata": {
    "execution": {
     "iopub.execute_input": "2024-07-06T10:06:45.549349Z",
     "iopub.status.busy": "2024-07-06T10:06:45.548914Z",
     "iopub.status.idle": "2024-07-06T10:06:45.558213Z",
     "shell.execute_reply": "2024-07-06T10:06:45.556833Z"
    },
    "papermill": {
     "duration": 0.095348,
     "end_time": "2024-07-06T10:06:45.560747",
     "exception": false,
     "start_time": "2024-07-06T10:06:45.465399",
     "status": "completed"
    },
    "tags": []
   },
   "outputs": [
    {
     "data": {
      "text/plain": [
       "0.9144327129229404"
      ]
     },
     "execution_count": 29,
     "metadata": {},
     "output_type": "execute_result"
    }
   ],
   "source": [
    "r2score = r2_score(y_test,y_pred)\n",
    "r2score"
   ]
  },
  {
   "cell_type": "markdown",
   "id": "136c6924",
   "metadata": {
    "papermill": {
     "duration": 0.018426,
     "end_time": "2024-07-06T10:06:45.597382",
     "exception": false,
     "start_time": "2024-07-06T10:06:45.578956",
     "status": "completed"
    },
    "tags": []
   },
   "source": [
    "**Iterating through loop of random states to find the best accuracy**"
   ]
  },
  {
   "cell_type": "code",
   "execution_count": 30,
   "id": "88445499",
   "metadata": {
    "execution": {
     "iopub.execute_input": "2024-07-06T10:06:45.637592Z",
     "iopub.status.busy": "2024-07-06T10:06:45.636678Z",
     "iopub.status.idle": "2024-07-06T10:07:06.247899Z",
     "shell.execute_reply": "2024-07-06T10:07:06.246645Z"
    },
    "papermill": {
     "duration": 20.634152,
     "end_time": "2024-07-06T10:07:06.250625",
     "exception": false,
     "start_time": "2024-07-06T10:06:45.616473",
     "status": "completed"
    },
    "tags": []
   },
   "outputs": [],
   "source": [
    "scores = []\n",
    "for i in range(1000):\n",
    "    X_train,X_test,y_train,y_test = train_test_split(X,y,test_size =0.2,random_state = i)\n",
    "    lr = LinearRegression()\n",
    "    pipe = make_pipeline(column_trans,lr)\n",
    "    pipe.fit(X_train,y_train)\n",
    "    y_pred = pipe.predict(X_test)\n",
    "    scores.append(r2_score(y_test,y_pred))"
   ]
  },
  {
   "cell_type": "code",
   "execution_count": 31,
   "id": "ea1821fe",
   "metadata": {
    "execution": {
     "iopub.execute_input": "2024-07-06T10:07:06.289118Z",
     "iopub.status.busy": "2024-07-06T10:07:06.288695Z",
     "iopub.status.idle": "2024-07-06T10:07:06.296882Z",
     "shell.execute_reply": "2024-07-06T10:07:06.295529Z"
    },
    "papermill": {
     "duration": 0.030315,
     "end_time": "2024-07-06T10:07:06.299290",
     "exception": false,
     "start_time": "2024-07-06T10:07:06.268975",
     "status": "completed"
    },
    "tags": []
   },
   "outputs": [
    {
     "data": {
      "text/plain": [
       "0.9609373489618993"
      ]
     },
     "execution_count": 31,
     "metadata": {},
     "output_type": "execute_result"
    }
   ],
   "source": [
    "scores[np.argmax(scores)]"
   ]
  },
  {
   "cell_type": "code",
   "execution_count": 32,
   "id": "5c98f40e",
   "metadata": {
    "execution": {
     "iopub.execute_input": "2024-07-06T10:07:06.338908Z",
     "iopub.status.busy": "2024-07-06T10:07:06.338476Z",
     "iopub.status.idle": "2024-07-06T10:07:06.374989Z",
     "shell.execute_reply": "2024-07-06T10:07:06.373563Z"
    },
    "papermill": {
     "duration": 0.061306,
     "end_time": "2024-07-06T10:07:06.379424",
     "exception": false,
     "start_time": "2024-07-06T10:07:06.318118",
     "status": "completed"
    },
    "tags": []
   },
   "outputs": [
    {
     "name": "stdout",
     "output_type": "stream",
     "text": [
      "0.9609373489618993\n"
     ]
    }
   ],
   "source": [
    "X_train,X_test,y_train,y_test = train_test_split(X,y,test_size =0.2,random_state = np.argmax(scores))\n",
    "lr = LinearRegression()\n",
    "pipe = make_pipeline(column_trans,lr)\n",
    "pipe.fit(X_train,y_train)\n",
    "y_pred = pipe.predict(X_test)\n",
    "print(r2_score(y_test,y_pred))"
   ]
  },
  {
   "cell_type": "code",
   "execution_count": null,
   "id": "678b2d05",
   "metadata": {
    "papermill": {
     "duration": 0.018815,
     "end_time": "2024-07-06T10:07:06.418208",
     "exception": false,
     "start_time": "2024-07-06T10:07:06.399393",
     "status": "completed"
    },
    "tags": []
   },
   "outputs": [],
   "source": []
  }
 ],
 "metadata": {
  "kaggle": {
   "accelerator": "none",
   "dataSources": [
    {
     "datasetId": 2491159,
     "sourceId": 4226692,
     "sourceType": "datasetVersion"
    }
   ],
   "dockerImageVersionId": 30732,
   "isGpuEnabled": false,
   "isInternetEnabled": true,
   "language": "python",
   "sourceType": "notebook"
  },
  "kernelspec": {
   "display_name": "Python 3",
   "language": "python",
   "name": "python3"
  },
  "language_info": {
   "codemirror_mode": {
    "name": "ipython",
    "version": 3
   },
   "file_extension": ".py",
   "mimetype": "text/x-python",
   "name": "python",
   "nbconvert_exporter": "python",
   "pygments_lexer": "ipython3",
   "version": "3.10.13"
  },
  "papermill": {
   "default_parameters": {},
   "duration": 32.10878,
   "end_time": "2024-07-06T10:07:07.160819",
   "environment_variables": {},
   "exception": null,
   "input_path": "__notebook__.ipynb",
   "output_path": "__notebook__.ipynb",
   "parameters": {},
   "start_time": "2024-07-06T10:06:35.052039",
   "version": "2.5.0"
  }
 },
 "nbformat": 4,
 "nbformat_minor": 5
}
