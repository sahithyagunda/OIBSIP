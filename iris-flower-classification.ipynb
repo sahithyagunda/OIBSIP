{
 "cells": [
  {
   "cell_type": "code",
   "execution_count": 1,
   "id": "c7a39c68",
   "metadata": {
    "_cell_guid": "b1076dfc-b9ad-4769-8c92-a6c4dae69d19",
    "_uuid": "8f2839f25d086af736a60e9eeb907d3b93b6e0e5",
    "execution": {
     "iopub.execute_input": "2024-07-06T09:46:30.811511Z",
     "iopub.status.busy": "2024-07-06T09:46:30.811053Z",
     "iopub.status.idle": "2024-07-06T09:46:34.051017Z",
     "shell.execute_reply": "2024-07-06T09:46:34.049751Z"
    },
    "papermill": {
     "duration": 3.255558,
     "end_time": "2024-07-06T09:46:34.053792",
     "exception": false,
     "start_time": "2024-07-06T09:46:30.798234",
     "status": "completed"
    },
    "tags": []
   },
   "outputs": [],
   "source": [
    "import pandas as pd\n",
    "import matplotlib.pyplot as plt\n",
    "import seaborn as sns\n",
    "from sklearn.preprocessing import StandardScaler,LabelEncoder\n",
    "from sklearn.model_selection import train_test_split\n",
    "from sklearn.linear_model import LogisticRegression\n",
    "from sklearn.tree import DecisionTreeClassifier\n",
    "from sklearn.metrics import accuracy_score,confusion_matrix,precision_score,f1_score"
   ]
  },
  {
   "cell_type": "markdown",
   "id": "119c0d51",
   "metadata": {
    "papermill": {
     "duration": 0.010177,
     "end_time": "2024-07-06T09:46:34.074742",
     "exception": false,
     "start_time": "2024-07-06T09:46:34.064565",
     "status": "completed"
    },
    "tags": []
   },
   "source": [
    "# Reading data from dataset"
   ]
  },
  {
   "cell_type": "code",
   "execution_count": 2,
   "id": "6499fd41",
   "metadata": {
    "execution": {
     "iopub.execute_input": "2024-07-06T09:46:34.097797Z",
     "iopub.status.busy": "2024-07-06T09:46:34.097260Z",
     "iopub.status.idle": "2024-07-06T09:46:34.160438Z",
     "shell.execute_reply": "2024-07-06T09:46:34.159207Z"
    },
    "papermill": {
     "duration": 0.077822,
     "end_time": "2024-07-06T09:46:34.163186",
     "exception": false,
     "start_time": "2024-07-06T09:46:34.085364",
     "status": "completed"
    },
    "tags": []
   },
   "outputs": [
    {
     "data": {
      "text/html": [
       "<div>\n",
       "<style scoped>\n",
       "    .dataframe tbody tr th:only-of-type {\n",
       "        vertical-align: middle;\n",
       "    }\n",
       "\n",
       "    .dataframe tbody tr th {\n",
       "        vertical-align: top;\n",
       "    }\n",
       "\n",
       "    .dataframe thead th {\n",
       "        text-align: right;\n",
       "    }\n",
       "</style>\n",
       "<table border=\"1\" class=\"dataframe\">\n",
       "  <thead>\n",
       "    <tr style=\"text-align: right;\">\n",
       "      <th></th>\n",
       "      <th>Id</th>\n",
       "      <th>SepalLengthCm</th>\n",
       "      <th>SepalWidthCm</th>\n",
       "      <th>PetalLengthCm</th>\n",
       "      <th>PetalWidthCm</th>\n",
       "      <th>Species</th>\n",
       "    </tr>\n",
       "  </thead>\n",
       "  <tbody>\n",
       "    <tr>\n",
       "      <th>0</th>\n",
       "      <td>1</td>\n",
       "      <td>5.1</td>\n",
       "      <td>3.5</td>\n",
       "      <td>1.4</td>\n",
       "      <td>0.2</td>\n",
       "      <td>Iris-setosa</td>\n",
       "    </tr>\n",
       "    <tr>\n",
       "      <th>1</th>\n",
       "      <td>2</td>\n",
       "      <td>4.9</td>\n",
       "      <td>3.0</td>\n",
       "      <td>1.4</td>\n",
       "      <td>0.2</td>\n",
       "      <td>Iris-setosa</td>\n",
       "    </tr>\n",
       "    <tr>\n",
       "      <th>2</th>\n",
       "      <td>3</td>\n",
       "      <td>4.7</td>\n",
       "      <td>3.2</td>\n",
       "      <td>1.3</td>\n",
       "      <td>0.2</td>\n",
       "      <td>Iris-setosa</td>\n",
       "    </tr>\n",
       "    <tr>\n",
       "      <th>3</th>\n",
       "      <td>4</td>\n",
       "      <td>4.6</td>\n",
       "      <td>3.1</td>\n",
       "      <td>1.5</td>\n",
       "      <td>0.2</td>\n",
       "      <td>Iris-setosa</td>\n",
       "    </tr>\n",
       "    <tr>\n",
       "      <th>4</th>\n",
       "      <td>5</td>\n",
       "      <td>5.0</td>\n",
       "      <td>3.6</td>\n",
       "      <td>1.4</td>\n",
       "      <td>0.2</td>\n",
       "      <td>Iris-setosa</td>\n",
       "    </tr>\n",
       "  </tbody>\n",
       "</table>\n",
       "</div>"
      ],
      "text/plain": [
       "   Id  SepalLengthCm  SepalWidthCm  PetalLengthCm  PetalWidthCm      Species\n",
       "0   1            5.1           3.5            1.4           0.2  Iris-setosa\n",
       "1   2            4.9           3.0            1.4           0.2  Iris-setosa\n",
       "2   3            4.7           3.2            1.3           0.2  Iris-setosa\n",
       "3   4            4.6           3.1            1.5           0.2  Iris-setosa\n",
       "4   5            5.0           3.6            1.4           0.2  Iris-setosa"
      ]
     },
     "execution_count": 2,
     "metadata": {},
     "output_type": "execute_result"
    }
   ],
   "source": [
    "df = pd.read_csv('/kaggle/input/iriscsv/Iris.csv')\n",
    "df.head()"
   ]
  },
  {
   "cell_type": "code",
   "execution_count": 3,
   "id": "01b40586",
   "metadata": {
    "execution": {
     "iopub.execute_input": "2024-07-06T09:46:34.186585Z",
     "iopub.status.busy": "2024-07-06T09:46:34.186205Z",
     "iopub.status.idle": "2024-07-06T09:46:34.218761Z",
     "shell.execute_reply": "2024-07-06T09:46:34.217459Z"
    },
    "papermill": {
     "duration": 0.04739,
     "end_time": "2024-07-06T09:46:34.221436",
     "exception": false,
     "start_time": "2024-07-06T09:46:34.174046",
     "status": "completed"
    },
    "tags": []
   },
   "outputs": [
    {
     "name": "stdout",
     "output_type": "stream",
     "text": [
      "<class 'pandas.core.frame.DataFrame'>\n",
      "RangeIndex: 150 entries, 0 to 149\n",
      "Data columns (total 6 columns):\n",
      " #   Column         Non-Null Count  Dtype  \n",
      "---  ------         --------------  -----  \n",
      " 0   Id             150 non-null    int64  \n",
      " 1   SepalLengthCm  150 non-null    float64\n",
      " 2   SepalWidthCm   150 non-null    float64\n",
      " 3   PetalLengthCm  150 non-null    float64\n",
      " 4   PetalWidthCm   150 non-null    float64\n",
      " 5   Species        150 non-null    object \n",
      "dtypes: float64(4), int64(1), object(1)\n",
      "memory usage: 7.2+ KB\n"
     ]
    }
   ],
   "source": [
    "df.info()"
   ]
  },
  {
   "cell_type": "code",
   "execution_count": 4,
   "id": "8874743b",
   "metadata": {
    "execution": {
     "iopub.execute_input": "2024-07-06T09:46:34.245162Z",
     "iopub.status.busy": "2024-07-06T09:46:34.244722Z",
     "iopub.status.idle": "2024-07-06T09:46:34.253967Z",
     "shell.execute_reply": "2024-07-06T09:46:34.252784Z"
    },
    "papermill": {
     "duration": 0.024297,
     "end_time": "2024-07-06T09:46:34.256782",
     "exception": false,
     "start_time": "2024-07-06T09:46:34.232485",
     "status": "completed"
    },
    "tags": []
   },
   "outputs": [
    {
     "data": {
      "text/plain": [
       "Species\n",
       "Iris-setosa        50\n",
       "Iris-versicolor    50\n",
       "Iris-virginica     50\n",
       "Name: count, dtype: int64"
      ]
     },
     "execution_count": 4,
     "metadata": {},
     "output_type": "execute_result"
    }
   ],
   "source": [
    "df['Species'].value_counts()"
   ]
  },
  {
   "cell_type": "markdown",
   "id": "28afcdc0",
   "metadata": {
    "papermill": {
     "duration": 0.01072,
     "end_time": "2024-07-06T09:46:34.279069",
     "exception": false,
     "start_time": "2024-07-06T09:46:34.268349",
     "status": "completed"
    },
    "tags": []
   },
   "source": [
    "# Univariate analysis"
   ]
  },
  {
   "cell_type": "code",
   "execution_count": 5,
   "id": "66226535",
   "metadata": {
    "execution": {
     "iopub.execute_input": "2024-07-06T09:46:34.303028Z",
     "iopub.status.busy": "2024-07-06T09:46:34.302657Z",
     "iopub.status.idle": "2024-07-06T09:46:34.552718Z",
     "shell.execute_reply": "2024-07-06T09:46:34.551516Z"
    },
    "papermill": {
     "duration": 0.265072,
     "end_time": "2024-07-06T09:46:34.555392",
     "exception": false,
     "start_time": "2024-07-06T09:46:34.290320",
     "status": "completed"
    },
    "tags": []
   },
   "outputs": [
    {
     "data": {
      "image/png": "[encoded data removed]",
      "text/plain": [
       "<Figure size 640x480 with 1 Axes>"
      ]
     },
     "metadata": {},
     "output_type": "display_data"
    }
   ],
   "source": [
    "sns.countplot(x = 'Species',data = df)\n",
    "plt.show()"
   ]
  },
  {
   "cell_type": "code",
   "execution_count": 6,
   "id": "5aa96802",
   "metadata": {
    "execution": {
     "iopub.execute_input": "2024-07-06T09:46:34.580048Z",
     "iopub.status.busy": "2024-07-06T09:46:34.579635Z",
     "iopub.status.idle": "2024-07-06T09:46:34.597071Z",
     "shell.execute_reply": "2024-07-06T09:46:34.595982Z"
    },
    "papermill": {
     "duration": 0.032839,
     "end_time": "2024-07-06T09:46:34.599725",
     "exception": false,
     "start_time": "2024-07-06T09:46:34.566886",
     "status": "completed"
    },
    "tags": []
   },
   "outputs": [
    {
     "data": {
      "text/html": [
       "<div>\n",
       "<style scoped>\n",
       "    .dataframe tbody tr th:only-of-type {\n",
       "        vertical-align: middle;\n",
       "    }\n",
       "\n",
       "    .dataframe tbody tr th {\n",
       "        vertical-align: top;\n",
       "    }\n",
       "\n",
       "    .dataframe thead th {\n",
       "        text-align: right;\n",
       "    }\n",
       "</style>\n",
       "<table border=\"1\" class=\"dataframe\">\n",
       "  <thead>\n",
       "    <tr style=\"text-align: right;\">\n",
       "      <th></th>\n",
       "      <th>Species</th>\n",
       "      <th>SepalLengthCm</th>\n",
       "    </tr>\n",
       "  </thead>\n",
       "  <tbody>\n",
       "    <tr>\n",
       "      <th>0</th>\n",
       "      <td>Iris-setosa</td>\n",
       "      <td>5.006</td>\n",
       "    </tr>\n",
       "    <tr>\n",
       "      <th>1</th>\n",
       "      <td>Iris-versicolor</td>\n",
       "      <td>5.936</td>\n",
       "    </tr>\n",
       "    <tr>\n",
       "      <th>2</th>\n",
       "      <td>Iris-virginica</td>\n",
       "      <td>6.588</td>\n",
       "    </tr>\n",
       "  </tbody>\n",
       "</table>\n",
       "</div>"
      ],
      "text/plain": [
       "           Species  SepalLengthCm\n",
       "0      Iris-setosa          5.006\n",
       "1  Iris-versicolor          5.936\n",
       "2   Iris-virginica          6.588"
      ]
     },
     "execution_count": 6,
     "metadata": {},
     "output_type": "execute_result"
    }
   ],
   "source": [
    "mean_species_sepallength = df.groupby(['Species'],as_index = False)['SepalLengthCm'].mean()\n",
    "mean_species_sepallength"
   ]
  },
  {
   "cell_type": "code",
   "execution_count": 7,
   "id": "e4fe77fa",
   "metadata": {
    "execution": {
     "iopub.execute_input": "2024-07-06T09:46:34.626778Z",
     "iopub.status.busy": "2024-07-06T09:46:34.626369Z",
     "iopub.status.idle": "2024-07-06T09:46:34.890178Z",
     "shell.execute_reply": "2024-07-06T09:46:34.888804Z"
    },
    "papermill": {
     "duration": 0.281591,
     "end_time": "2024-07-06T09:46:34.892930",
     "exception": false,
     "start_time": "2024-07-06T09:46:34.611339",
     "status": "completed"
    },
    "tags": []
   },
   "outputs": [
    {
     "data": {
      "text/plain": [
       "Text(0, 0.5, 'SepalLengthCm')"
      ]
     },
     "execution_count": 7,
     "metadata": {},
     "output_type": "execute_result"
    },
    {
     "data": {
      "image/png": "[encoded data removed]",
      "text/plain": [
       "<Figure size 640x480 with 1 Axes>"
      ]
     },
     "metadata": {},
     "output_type": "display_data"
    }
   ],
   "source": [
    "sns.barplot(x = 'Species',y= 'SepalLengthCm',data = mean_species_sepallength )\n",
    "plt.title('Mean of Species by Sepal Length')\n",
    "plt.xlabel('Specis')\n",
    "plt.ylabel('SepalLengthCm')"
   ]
  },
  {
   "cell_type": "code",
   "execution_count": 8,
   "id": "08625083",
   "metadata": {
    "execution": {
     "iopub.execute_input": "2024-07-06T09:46:34.919305Z",
     "iopub.status.busy": "2024-07-06T09:46:34.918842Z",
     "iopub.status.idle": "2024-07-06T09:46:34.926626Z",
     "shell.execute_reply": "2024-07-06T09:46:34.925395Z"
    },
    "papermill": {
     "duration": 0.023913,
     "end_time": "2024-07-06T09:46:34.929074",
     "exception": false,
     "start_time": "2024-07-06T09:46:34.905161",
     "status": "completed"
    },
    "tags": []
   },
   "outputs": [
    {
     "data": {
      "text/plain": [
       "Index(['Id', 'SepalLengthCm', 'SepalWidthCm', 'PetalLengthCm', 'PetalWidthCm',\n",
       "       'Species'],\n",
       "      dtype='object')"
      ]
     },
     "execution_count": 8,
     "metadata": {},
     "output_type": "execute_result"
    }
   ],
   "source": [
    "df.columns"
   ]
  },
  {
   "cell_type": "code",
   "execution_count": 9,
   "id": "30cc6329",
   "metadata": {
    "execution": {
     "iopub.execute_input": "2024-07-06T09:46:34.956307Z",
     "iopub.status.busy": "2024-07-06T09:46:34.955854Z",
     "iopub.status.idle": "2024-07-06T09:46:34.969296Z",
     "shell.execute_reply": "2024-07-06T09:46:34.968144Z"
    },
    "papermill": {
     "duration": 0.030097,
     "end_time": "2024-07-06T09:46:34.972177",
     "exception": false,
     "start_time": "2024-07-06T09:46:34.942080",
     "status": "completed"
    },
    "tags": []
   },
   "outputs": [
    {
     "data": {
      "text/html": [
       "<div>\n",
       "<style scoped>\n",
       "    .dataframe tbody tr th:only-of-type {\n",
       "        vertical-align: middle;\n",
       "    }\n",
       "\n",
       "    .dataframe tbody tr th {\n",
       "        vertical-align: top;\n",
       "    }\n",
       "\n",
       "    .dataframe thead th {\n",
       "        text-align: right;\n",
       "    }\n",
       "</style>\n",
       "<table border=\"1\" class=\"dataframe\">\n",
       "  <thead>\n",
       "    <tr style=\"text-align: right;\">\n",
       "      <th></th>\n",
       "      <th>Species</th>\n",
       "      <th>SepalWidthCm</th>\n",
       "    </tr>\n",
       "  </thead>\n",
       "  <tbody>\n",
       "    <tr>\n",
       "      <th>0</th>\n",
       "      <td>Iris-setosa</td>\n",
       "      <td>3.418</td>\n",
       "    </tr>\n",
       "    <tr>\n",
       "      <th>1</th>\n",
       "      <td>Iris-versicolor</td>\n",
       "      <td>2.770</td>\n",
       "    </tr>\n",
       "    <tr>\n",
       "      <th>2</th>\n",
       "      <td>Iris-virginica</td>\n",
       "      <td>2.974</td>\n",
       "    </tr>\n",
       "  </tbody>\n",
       "</table>\n",
       "</div>"
      ],
      "text/plain": [
       "           Species  SepalWidthCm\n",
       "0      Iris-setosa         3.418\n",
       "1  Iris-versicolor         2.770\n",
       "2   Iris-virginica         2.974"
      ]
     },
     "execution_count": 9,
     "metadata": {},
     "output_type": "execute_result"
    }
   ],
   "source": [
    "mean_species_sepalwidth=df.groupby(['Species'],as_index = False)['SepalWidthCm'].mean()\n",
    "mean_species_sepalwidth"
   ]
  },
  {
   "cell_type": "code",
   "execution_count": 10,
   "id": "609186f6",
   "metadata": {
    "execution": {
     "iopub.execute_input": "2024-07-06T09:46:35.000031Z",
     "iopub.status.busy": "2024-07-06T09:46:34.999583Z",
     "iopub.status.idle": "2024-07-06T09:46:35.322418Z",
     "shell.execute_reply": "2024-07-06T09:46:35.321143Z"
    },
    "papermill": {
     "duration": 0.339829,
     "end_time": "2024-07-06T09:46:35.325241",
     "exception": false,
     "start_time": "2024-07-06T09:46:34.985412",
     "status": "completed"
    },
    "tags": []
   },
   "outputs": [
    {
     "data": {
      "text/plain": [
       "Text(0, 0.5, 'SepalwidththCm')"
      ]
     },
     "execution_count": 10,
     "metadata": {},
     "output_type": "execute_result"
    },
    {
     "data": {
      "image/png": "[encoded data removed]",
      "text/plain": [
       "<Figure size 640x480 with 1 Axes>"
      ]
     },
     "metadata": {},
     "output_type": "display_data"
    }
   ],
   "source": [
    "sns.barplot(x = 'Species',y = 'SepalWidthCm',data = mean_species_sepalwidth)\n",
    "plt.title('Mean of Species by Sepal Width')\n",
    "plt.xlabel('Specis')\n",
    "plt.ylabel('SepalwidththCm')"
   ]
  },
  {
   "cell_type": "code",
   "execution_count": 11,
   "id": "f608a407",
   "metadata": {
    "execution": {
     "iopub.execute_input": "2024-07-06T09:46:35.353984Z",
     "iopub.status.busy": "2024-07-06T09:46:35.353490Z",
     "iopub.status.idle": "2024-07-06T09:46:35.368583Z",
     "shell.execute_reply": "2024-07-06T09:46:35.367295Z"
    },
    "papermill": {
     "duration": 0.032708,
     "end_time": "2024-07-06T09:46:35.371259",
     "exception": false,
     "start_time": "2024-07-06T09:46:35.338551",
     "status": "completed"
    },
    "tags": []
   },
   "outputs": [
    {
     "data": {
      "text/html": [
       "<div>\n",
       "<style scoped>\n",
       "    .dataframe tbody tr th:only-of-type {\n",
       "        vertical-align: middle;\n",
       "    }\n",
       "\n",
       "    .dataframe tbody tr th {\n",
       "        vertical-align: top;\n",
       "    }\n",
       "\n",
       "    .dataframe thead th {\n",
       "        text-align: right;\n",
       "    }\n",
       "</style>\n",
       "<table border=\"1\" class=\"dataframe\">\n",
       "  <thead>\n",
       "    <tr style=\"text-align: right;\">\n",
       "      <th></th>\n",
       "      <th>Species</th>\n",
       "      <th>PetalLengthCm</th>\n",
       "    </tr>\n",
       "  </thead>\n",
       "  <tbody>\n",
       "    <tr>\n",
       "      <th>0</th>\n",
       "      <td>Iris-setosa</td>\n",
       "      <td>1.464</td>\n",
       "    </tr>\n",
       "    <tr>\n",
       "      <th>1</th>\n",
       "      <td>Iris-versicolor</td>\n",
       "      <td>4.260</td>\n",
       "    </tr>\n",
       "    <tr>\n",
       "      <th>2</th>\n",
       "      <td>Iris-virginica</td>\n",
       "      <td>5.552</td>\n",
       "    </tr>\n",
       "  </tbody>\n",
       "</table>\n",
       "</div>"
      ],
      "text/plain": [
       "           Species  PetalLengthCm\n",
       "0      Iris-setosa          1.464\n",
       "1  Iris-versicolor          4.260\n",
       "2   Iris-virginica          5.552"
      ]
     },
     "execution_count": 11,
     "metadata": {},
     "output_type": "execute_result"
    }
   ],
   "source": [
    "mean_species_petallength=df.groupby(['Species'],as_index = False)['PetalLengthCm'].mean()\n",
    "mean_species_petallength"
   ]
  },
  {
   "cell_type": "code",
   "execution_count": 12,
   "id": "65734e28",
   "metadata": {
    "execution": {
     "iopub.execute_input": "2024-07-06T09:46:35.400816Z",
     "iopub.status.busy": "2024-07-06T09:46:35.400394Z",
     "iopub.status.idle": "2024-07-06T09:46:35.700501Z",
     "shell.execute_reply": "2024-07-06T09:46:35.699148Z"
    },
    "papermill": {
     "duration": 0.318409,
     "end_time": "2024-07-06T09:46:35.703351",
     "exception": false,
     "start_time": "2024-07-06T09:46:35.384942",
     "status": "completed"
    },
    "tags": []
   },
   "outputs": [
    {
     "data": {
      "text/plain": [
       "Text(0, 0.5, 'PetalLengthCm')"
      ]
     },
     "execution_count": 12,
     "metadata": {},
     "output_type": "execute_result"
    },
    {
     "data": {
      "image/png": "[encoded data removed]",
      "text/plain": [
       "<Figure size 640x480 with 1 Axes>"
      ]
     },
     "metadata": {},
     "output_type": "display_data"
    }
   ],
   "source": [
    "sns.barplot(x = 'Species',y = 'PetalLengthCm',data =mean_species_petallength)\n",
    "plt.title('Mean of Species by Petal Length')\n",
    "plt.xlabel('Specis')\n",
    "plt.ylabel('PetalLengthCm')"
   ]
  },
  {
   "cell_type": "code",
   "execution_count": 13,
   "id": "18ce7b37",
   "metadata": {
    "execution": {
     "iopub.execute_input": "2024-07-06T09:46:35.736174Z",
     "iopub.status.busy": "2024-07-06T09:46:35.735727Z",
     "iopub.status.idle": "2024-07-06T09:46:35.750307Z",
     "shell.execute_reply": "2024-07-06T09:46:35.749021Z"
    },
    "papermill": {
     "duration": 0.034496,
     "end_time": "2024-07-06T09:46:35.753352",
     "exception": false,
     "start_time": "2024-07-06T09:46:35.718856",
     "status": "completed"
    },
    "tags": []
   },
   "outputs": [
    {
     "data": {
      "text/html": [
       "<div>\n",
       "<style scoped>\n",
       "    .dataframe tbody tr th:only-of-type {\n",
       "        vertical-align: middle;\n",
       "    }\n",
       "\n",
       "    .dataframe tbody tr th {\n",
       "        vertical-align: top;\n",
       "    }\n",
       "\n",
       "    .dataframe thead th {\n",
       "        text-align: right;\n",
       "    }\n",
       "</style>\n",
       "<table border=\"1\" class=\"dataframe\">\n",
       "  <thead>\n",
       "    <tr style=\"text-align: right;\">\n",
       "      <th></th>\n",
       "      <th>Species</th>\n",
       "      <th>PetalWidthCm</th>\n",
       "    </tr>\n",
       "  </thead>\n",
       "  <tbody>\n",
       "    <tr>\n",
       "      <th>0</th>\n",
       "      <td>Iris-setosa</td>\n",
       "      <td>0.244</td>\n",
       "    </tr>\n",
       "    <tr>\n",
       "      <th>1</th>\n",
       "      <td>Iris-versicolor</td>\n",
       "      <td>1.326</td>\n",
       "    </tr>\n",
       "    <tr>\n",
       "      <th>2</th>\n",
       "      <td>Iris-virginica</td>\n",
       "      <td>2.026</td>\n",
       "    </tr>\n",
       "  </tbody>\n",
       "</table>\n",
       "</div>"
      ],
      "text/plain": [
       "           Species  PetalWidthCm\n",
       "0      Iris-setosa         0.244\n",
       "1  Iris-versicolor         1.326\n",
       "2   Iris-virginica         2.026"
      ]
     },
     "execution_count": 13,
     "metadata": {},
     "output_type": "execute_result"
    }
   ],
   "source": [
    "mean_species_petalwidth=df.groupby(['Species'],as_index = False)['PetalWidthCm'].mean()\n",
    "mean_species_petalwidth"
   ]
  },
  {
   "cell_type": "code",
   "execution_count": 14,
   "id": "11935744",
   "metadata": {
    "execution": {
     "iopub.execute_input": "2024-07-06T09:46:35.783823Z",
     "iopub.status.busy": "2024-07-06T09:46:35.783404Z",
     "iopub.status.idle": "2024-07-06T09:46:36.115179Z",
     "shell.execute_reply": "2024-07-06T09:46:36.113964Z"
    },
    "papermill": {
     "duration": 0.350432,
     "end_time": "2024-07-06T09:46:36.118159",
     "exception": false,
     "start_time": "2024-07-06T09:46:35.767727",
     "status": "completed"
    },
    "tags": []
   },
   "outputs": [
    {
     "data": {
      "text/plain": [
       "Text(0, 0.5, 'PetalWidthCm')"
      ]
     },
     "execution_count": 14,
     "metadata": {},
     "output_type": "execute_result"
    },
    {
     "data": {
      "image/png": "[encoded data removed]",
      "text/plain": [
       "<Figure size 640x480 with 1 Axes>"
      ]
     },
     "metadata": {},
     "output_type": "display_data"
    }
   ],
   "source": [
    "sns.barplot(x = 'Species',y = 'PetalWidthCm',data =mean_species_petalwidth)\n",
    "plt.title('Mean of Species by Petal Width')\n",
    "plt.xlabel('Specis')\n",
    "plt.ylabel('PetalWidthCm')"
   ]
  },
  {
   "cell_type": "code",
   "execution_count": 15,
   "id": "ae791680",
   "metadata": {
    "execution": {
     "iopub.execute_input": "2024-07-06T09:46:36.150794Z",
     "iopub.status.busy": "2024-07-06T09:46:36.150402Z",
     "iopub.status.idle": "2024-07-06T09:46:36.689029Z",
     "shell.execute_reply": "2024-07-06T09:46:36.687853Z"
    },
    "papermill": {
     "duration": 0.558939,
     "end_time": "2024-07-06T09:46:36.692315",
     "exception": false,
     "start_time": "2024-07-06T09:46:36.133376",
     "status": "completed"
    },
    "tags": []
   },
   "outputs": [
    {
     "data": {
      "text/plain": [
       "Text(0, 0.5, 'Sepal Width (cm)')"
      ]
     },
     "execution_count": 15,
     "metadata": {},
     "output_type": "execute_result"
    },
    {
     "data": {
      "image/png": "[encoded data removed]",
      "text/plain": [
       "<Figure size 640x480 with 1 Axes>"
      ]
     },
     "metadata": {},
     "output_type": "display_data"
    }
   ],
   "source": [
    "sns.scatterplot(x = 'SepalLengthCm',y = 'SepalWidthCm',hue = 'Species',data=df)\n",
    "plt.title('Sepal Length vs Sepal Width')\n",
    "plt.xlabel('Sepal Length(cm)')\n",
    "plt.ylabel('Sepal Width (cm)')"
   ]
  },
  {
   "cell_type": "code",
   "execution_count": 16,
   "id": "55f511cf",
   "metadata": {
    "execution": {
     "iopub.execute_input": "2024-07-06T09:46:36.737071Z",
     "iopub.status.busy": "2024-07-06T09:46:36.736527Z",
     "iopub.status.idle": "2024-07-06T09:46:37.272447Z",
     "shell.execute_reply": "2024-07-06T09:46:37.271251Z"
    },
    "papermill": {
     "duration": 0.564229,
     "end_time": "2024-07-06T09:46:37.277033",
     "exception": false,
     "start_time": "2024-07-06T09:46:36.712804",
     "status": "completed"
    },
    "tags": []
   },
   "outputs": [
    {
     "data": {
      "text/plain": [
       "Text(0, 0.5, 'petal Width (cm)')"
      ]
     },
     "execution_count": 16,
     "metadata": {},
     "output_type": "execute_result"
    },
    {
     "data": {
      "image/png": "[encoded data removed]",
      "text/plain": [
       "<Figure size 640x480 with 1 Axes>"
      ]
     },
     "metadata": {},
     "output_type": "display_data"
    }
   ],
   "source": [
    "sns.scatterplot(x = 'PetalLengthCm',y = 'PetalWidthCm',hue = 'Species',data=df,palette = 'Set2')\n",
    "plt.title('petal Length vs petal Width')\n",
    "plt.xlabel('petal Length(cm)')\n",
    "plt.ylabel('petal Width (cm)')"
   ]
  },
  {
   "cell_type": "code",
   "execution_count": 17,
   "id": "81969853",
   "metadata": {
    "execution": {
     "iopub.execute_input": "2024-07-06T09:46:37.315770Z",
     "iopub.status.busy": "2024-07-06T09:46:37.315271Z",
     "iopub.status.idle": "2024-07-06T09:46:37.326152Z",
     "shell.execute_reply": "2024-07-06T09:46:37.324889Z"
    },
    "papermill": {
     "duration": 0.032683,
     "end_time": "2024-07-06T09:46:37.328906",
     "exception": false,
     "start_time": "2024-07-06T09:46:37.296223",
     "status": "completed"
    },
    "tags": []
   },
   "outputs": [],
   "source": [
    "df = df.drop(columns = ['Id'],axis = 1)"
   ]
  },
  {
   "cell_type": "code",
   "execution_count": 18,
   "id": "1a13d5e6",
   "metadata": {
    "execution": {
     "iopub.execute_input": "2024-07-06T09:46:37.368487Z",
     "iopub.status.busy": "2024-07-06T09:46:37.368042Z",
     "iopub.status.idle": "2024-07-06T09:46:37.377633Z",
     "shell.execute_reply": "2024-07-06T09:46:37.376221Z"
    },
    "papermill": {
     "duration": 0.031331,
     "end_time": "2024-07-06T09:46:37.380596",
     "exception": false,
     "start_time": "2024-07-06T09:46:37.349265",
     "status": "completed"
    },
    "tags": []
   },
   "outputs": [
    {
     "data": {
      "text/plain": [
       "Index(['SepalLengthCm', 'SepalWidthCm', 'PetalLengthCm', 'PetalWidthCm',\n",
       "       'Species'],\n",
       "      dtype='object')"
      ]
     },
     "execution_count": 18,
     "metadata": {},
     "output_type": "execute_result"
    }
   ],
   "source": [
    "df.columns"
   ]
  },
  {
   "cell_type": "markdown",
   "id": "3f7cad91",
   "metadata": {
    "papermill": {
     "duration": 0.017307,
     "end_time": "2024-07-06T09:46:37.415070",
     "exception": false,
     "start_time": "2024-07-06T09:46:37.397763",
     "status": "completed"
    },
    "tags": []
   },
   "source": [
    "# Encoding the categorical column"
   ]
  },
  {
   "cell_type": "code",
   "execution_count": 19,
   "id": "417ded93",
   "metadata": {
    "execution": {
     "iopub.execute_input": "2024-07-06T09:46:37.450964Z",
     "iopub.status.busy": "2024-07-06T09:46:37.450562Z",
     "iopub.status.idle": "2024-07-06T09:46:37.455778Z",
     "shell.execute_reply": "2024-07-06T09:46:37.454553Z"
    },
    "papermill": {
     "duration": 0.026368,
     "end_time": "2024-07-06T09:46:37.458395",
     "exception": false,
     "start_time": "2024-07-06T09:46:37.432027",
     "status": "completed"
    },
    "tags": []
   },
   "outputs": [],
   "source": [
    "encoder = LabelEncoder()"
   ]
  },
  {
   "cell_type": "code",
   "execution_count": 20,
   "id": "c1bf9836",
   "metadata": {
    "execution": {
     "iopub.execute_input": "2024-07-06T09:46:37.494376Z",
     "iopub.status.busy": "2024-07-06T09:46:37.493957Z",
     "iopub.status.idle": "2024-07-06T09:46:37.501050Z",
     "shell.execute_reply": "2024-07-06T09:46:37.499905Z"
    },
    "papermill": {
     "duration": 0.02842,
     "end_time": "2024-07-06T09:46:37.503926",
     "exception": false,
     "start_time": "2024-07-06T09:46:37.475506",
     "status": "completed"
    },
    "tags": []
   },
   "outputs": [],
   "source": [
    "df['Encoder_species'] = encoder.fit_transform(df['Species'])"
   ]
  },
  {
   "cell_type": "code",
   "execution_count": 21,
   "id": "726ea6d5",
   "metadata": {
    "execution": {
     "iopub.execute_input": "2024-07-06T09:46:37.540166Z",
     "iopub.status.busy": "2024-07-06T09:46:37.539704Z",
     "iopub.status.idle": "2024-07-06T09:46:37.551747Z",
     "shell.execute_reply": "2024-07-06T09:46:37.550030Z"
    },
    "papermill": {
     "duration": 0.033354,
     "end_time": "2024-07-06T09:46:37.554414",
     "exception": false,
     "start_time": "2024-07-06T09:46:37.521060",
     "status": "completed"
    },
    "tags": []
   },
   "outputs": [
    {
     "data": {
      "text/plain": [
       "Encoder_species\n",
       "0    50\n",
       "1    50\n",
       "2    50\n",
       "Name: count, dtype: int64"
      ]
     },
     "execution_count": 21,
     "metadata": {},
     "output_type": "execute_result"
    }
   ],
   "source": [
    "df['Encoder_species'].value_counts()"
   ]
  },
  {
   "cell_type": "code",
   "execution_count": 22,
   "id": "c2a09ea5",
   "metadata": {
    "execution": {
     "iopub.execute_input": "2024-07-06T09:46:37.590338Z",
     "iopub.status.busy": "2024-07-06T09:46:37.589891Z",
     "iopub.status.idle": "2024-07-06T09:46:37.596800Z",
     "shell.execute_reply": "2024-07-06T09:46:37.595585Z"
    },
    "papermill": {
     "duration": 0.027885,
     "end_time": "2024-07-06T09:46:37.599435",
     "exception": false,
     "start_time": "2024-07-06T09:46:37.571550",
     "status": "completed"
    },
    "tags": []
   },
   "outputs": [],
   "source": [
    "df = df.drop(columns = ['Species'],axis = 1)"
   ]
  },
  {
   "cell_type": "code",
   "execution_count": 23,
   "id": "6eda4762",
   "metadata": {
    "execution": {
     "iopub.execute_input": "2024-07-06T09:46:37.637713Z",
     "iopub.status.busy": "2024-07-06T09:46:37.637277Z",
     "iopub.status.idle": "2024-07-06T09:46:37.644348Z",
     "shell.execute_reply": "2024-07-06T09:46:37.643156Z"
    },
    "papermill": {
     "duration": 0.030788,
     "end_time": "2024-07-06T09:46:37.647436",
     "exception": false,
     "start_time": "2024-07-06T09:46:37.616648",
     "status": "completed"
    },
    "tags": []
   },
   "outputs": [],
   "source": [
    "y = df['Encoder_species']\n",
    "X = df.drop(columns = ['Encoder_species'],axis = 1)"
   ]
  },
  {
   "cell_type": "markdown",
   "id": "37cddb11",
   "metadata": {
    "papermill": {
     "duration": 0.017216,
     "end_time": "2024-07-06T09:46:37.682055",
     "exception": false,
     "start_time": "2024-07-06T09:46:37.664839",
     "status": "completed"
    },
    "tags": []
   },
   "source": [
    "# splitting the data into train and test data"
   ]
  },
  {
   "cell_type": "code",
   "execution_count": 24,
   "id": "320aaee3",
   "metadata": {
    "execution": {
     "iopub.execute_input": "2024-07-06T09:46:37.719718Z",
     "iopub.status.busy": "2024-07-06T09:46:37.718727Z",
     "iopub.status.idle": "2024-07-06T09:46:37.729466Z",
     "shell.execute_reply": "2024-07-06T09:46:37.727799Z"
    },
    "papermill": {
     "duration": 0.033122,
     "end_time": "2024-07-06T09:46:37.732658",
     "exception": false,
     "start_time": "2024-07-06T09:46:37.699536",
     "status": "completed"
    },
    "tags": []
   },
   "outputs": [],
   "source": [
    "X_train,X_test,y_train,y_test = train_test_split(X,y,random_state = 42,test_size =0.2)"
   ]
  },
  {
   "cell_type": "code",
   "execution_count": 25,
   "id": "b88f001e",
   "metadata": {
    "execution": {
     "iopub.execute_input": "2024-07-06T09:46:37.769623Z",
     "iopub.status.busy": "2024-07-06T09:46:37.769197Z",
     "iopub.status.idle": "2024-07-06T09:46:37.776278Z",
     "shell.execute_reply": "2024-07-06T09:46:37.774994Z"
    },
    "papermill": {
     "duration": 0.028326,
     "end_time": "2024-07-06T09:46:37.778953",
     "exception": false,
     "start_time": "2024-07-06T09:46:37.750627",
     "status": "completed"
    },
    "tags": []
   },
   "outputs": [
    {
     "name": "stdout",
     "output_type": "stream",
     "text": [
      "(120, 4)\n",
      "(30, 4)\n",
      "(120,)\n",
      "(30,)\n"
     ]
    }
   ],
   "source": [
    "print(X_train.shape)\n",
    "print(X_test.shape)\n",
    "print(y_train.shape)\n",
    "print(y_test.shape)"
   ]
  },
  {
   "cell_type": "markdown",
   "id": "d22dee33",
   "metadata": {
    "papermill": {
     "duration": 0.017071,
     "end_time": "2024-07-06T09:46:37.813359",
     "exception": false,
     "start_time": "2024-07-06T09:46:37.796288",
     "status": "completed"
    },
    "tags": []
   },
   "source": [
    "# Model building"
   ]
  },
  {
   "cell_type": "code",
   "execution_count": 26,
   "id": "50101d98",
   "metadata": {
    "execution": {
     "iopub.execute_input": "2024-07-06T09:46:37.851271Z",
     "iopub.status.busy": "2024-07-06T09:46:37.850817Z",
     "iopub.status.idle": "2024-07-06T09:46:37.856505Z",
     "shell.execute_reply": "2024-07-06T09:46:37.855322Z"
    },
    "papermill": {
     "duration": 0.027394,
     "end_time": "2024-07-06T09:46:37.859181",
     "exception": false,
     "start_time": "2024-07-06T09:46:37.831787",
     "status": "completed"
    },
    "tags": []
   },
   "outputs": [],
   "source": [
    "models = {\n",
    "    \"Logistic Regression\":LogisticRegression(),\n",
    "    \"Decision Trees\": DecisionTreeClassifier()\n",
    "}"
   ]
  },
  {
   "cell_type": "code",
   "execution_count": 27,
   "id": "6434928c",
   "metadata": {
    "execution": {
     "iopub.execute_input": "2024-07-06T09:46:37.896807Z",
     "iopub.status.busy": "2024-07-06T09:46:37.895415Z",
     "iopub.status.idle": "2024-07-06T09:46:37.971291Z",
     "shell.execute_reply": "2024-07-06T09:46:37.970019Z"
    },
    "papermill": {
     "duration": 0.097778,
     "end_time": "2024-07-06T09:46:37.974535",
     "exception": false,
     "start_time": "2024-07-06T09:46:37.876757",
     "status": "completed"
    },
    "tags": []
   },
   "outputs": [
    {
     "name": "stdout",
     "output_type": "stream",
     "text": [
      "model : Logistic Regression\n",
      "Training accuracy is : 0.975 \n",
      "\n",
      "Test accuracy is :  1.0 \n",
      "\n",
      "f1 score of train data is :  0.9749882794186592 \n",
      "\n",
      "f1 score of test data  is :  0.9749882794186592 \n",
      "\n",
      "Train precision is : 0.9767857142857144 \n",
      "\n",
      "Test precision is : 1.0 \n",
      "\n",
      "The confusion matrix of training data is : \n",
      " [[40  0  0]\n",
      " [ 0 38  3]\n",
      " [ 0  0 39]] \n",
      "\n",
      "The confusion matrix of test data is : \n",
      " [[10  0  0]\n",
      " [ 0  9  0]\n",
      " [ 0  0 11]] \n",
      "\n",
      "\n",
      "\n",
      "model : Decision Trees\n",
      "Training accuracy is : 1.0 \n",
      "\n",
      "Test accuracy is :  1.0 \n",
      "\n",
      "f1 score of train data is :  1.0 \n",
      "\n",
      "f1 score of test data  is :  1.0 \n",
      "\n",
      "Train precision is : 1.0 \n",
      "\n",
      "Test precision is : 1.0 \n",
      "\n",
      "The confusion matrix of training data is : \n",
      " [[40  0  0]\n",
      " [ 0 41  0]\n",
      " [ 0  0 39]] \n",
      "\n",
      "The confusion matrix of test data is : \n",
      " [[10  0  0]\n",
      " [ 0  9  0]\n",
      " [ 0  0 11]] \n",
      "\n",
      "\n",
      "\n"
     ]
    }
   ],
   "source": [
    "for name,model in models.items():\n",
    "    model.fit(X_train,y_train)\n",
    "    y_train_pred = model.predict(X_train)\n",
    "    train_accuracy = accuracy_score(y_train,y_train_pred)\n",
    "    y_test_pred = model.predict(X_test)\n",
    "    test_accuracy = accuracy_score(y_test_pred,y_test)\n",
    "    train_f1 = f1_score(y_train,y_train_pred,average ='weighted')\n",
    "    test_f1 = f1_score(y_train,y_train_pred,average = 'weighted')\n",
    "    precision_train = precision_score(y_train,y_train_pred,average = 'weighted')\n",
    "    precision_test = precision_score(y_test,y_test_pred,average = 'weighted')\n",
    "    confusion_matrix_train = confusion_matrix(y_train,y_train_pred)\n",
    "    confusion_matrix_test = confusion_matrix(y_test,y_test_pred)\n",
    "    print(f\"model : {name}\")\n",
    "    print(f\"Training accuracy is : {train_accuracy} \\n\")\n",
    "    print(f\"Test accuracy is :  {test_accuracy} \\n\")\n",
    "    print(f\"f1 score of train data is :  {train_f1} \\n\")\n",
    "    print(f\"f1 score of test data  is :  {test_f1} \\n\")\n",
    "    print(f\"Train precision is : {precision_train} \\n\")\n",
    "    print(f\"Test precision is : {precision_test} \\n\")\n",
    "    print(f\"The confusion matrix of training data is : \\n {confusion_matrix_train} \\n\")\n",
    "    print(f\"The confusion matrix of test data is : \\n {confusion_matrix_test} \\n\")\n",
    "    print(\"\\n\")"
   ]
  },
  {
   "cell_type": "code",
   "execution_count": null,
   "id": "f8ac321b",
   "metadata": {
    "papermill": {
     "duration": 0.017088,
     "end_time": "2024-07-06T09:46:38.009540",
     "exception": false,
     "start_time": "2024-07-06T09:46:37.992452",
     "status": "completed"
    },
    "tags": []
   },
   "outputs": [],
   "source": []
  },
  {
   "cell_type": "code",
   "execution_count": null,
   "id": "64f97f2e",
   "metadata": {
    "papermill": {
     "duration": 0.016942,
     "end_time": "2024-07-06T09:46:38.043720",
     "exception": false,
     "start_time": "2024-07-06T09:46:38.026778",
     "status": "completed"
    },
    "tags": []
   },
   "outputs": [],
   "source": []
  }
 ],
 "metadata": {
  "kaggle": {
   "accelerator": "none",
   "dataSources": [
    {
     "datasetId": 4247,
     "sourceId": 6570,
     "sourceType": "datasetVersion"
    }
   ],
   "dockerImageVersionId": 30732,
   "isGpuEnabled": false,
   "isInternetEnabled": true,
   "language": "python",
   "sourceType": "notebook"
  },
  "kernelspec": {
   "display_name": "Python 3",
   "language": "python",
   "name": "python3"
  },
  "language_info": {
   "codemirror_mode": {
    "name": "ipython",
    "version": 3
   },
   "file_extension": ".py",
   "mimetype": "text/x-python",
   "name": "python",
   "nbconvert_exporter": "python",
   "pygments_lexer": "ipython3",
   "version": "3.10.13"
  },
  "papermill": {
   "default_parameters": {},
   "duration": 11.161915,
   "end_time": "2024-07-06T09:46:38.783402",
   "environment_variables": {},
   "exception": null,
   "input_path": "__notebook__.ipynb",
   "output_path": "__notebook__.ipynb",
   "parameters": {},
   "start_time": "2024-07-06T09:46:27.621487",
   "version": "2.5.0"
  }
 },
 "nbformat": 4,
 "nbformat_minor": 5
}
